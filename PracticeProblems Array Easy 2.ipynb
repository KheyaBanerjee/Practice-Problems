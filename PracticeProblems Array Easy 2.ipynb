{
 "cells": [
  {
   "cell_type": "markdown",
   "metadata": {},
   "source": [
    "# 766. Toeplitz Matrix"
   ]
  },
  {
   "cell_type": "code",
   "execution_count": null,
   "metadata": {},
   "outputs": [],
   "source": [
    "class Solution:\n",
    "    def isToeplitzMatrix(self, matrix: List[List[int]]) -> bool:\n",
    "        res = True\n",
    "        for i in range(1,len(matrix)):\n",
    "            for j in range(1,len(matrix[0])):\n",
    "                if matrix[i][j] != matrix[i-1][j-1]:\n",
    "                    res = False\n",
    "                    break\n",
    "        return res"
   ]
  },
  {
   "cell_type": "markdown",
   "metadata": {},
   "source": [
    "# 1619. Mean of Array After Removing Some Elements"
   ]
  },
  {
   "cell_type": "code",
   "execution_count": null,
   "metadata": {},
   "outputs": [],
   "source": [
    "class Solution:\n",
    "    def trimMean(self, arr: List[int]) -> float:\n",
    "        arr.sort()\n",
    "        tlen = round(len(arr)/(20))\n",
    "        tarr = arr[tlen:-tlen]\n",
    "        return sum(tarr)/len(tarr)"
   ]
  },
  {
   "cell_type": "markdown",
   "metadata": {},
   "source": [
    "# 1550. Three Consecutive Odds"
   ]
  },
  {
   "cell_type": "code",
   "execution_count": null,
   "metadata": {},
   "outputs": [],
   "source": [
    "class Solution:\n",
    "    def threeConsecutiveOdds(self, arr: List[int]) -> bool:\n",
    "        if len(arr) < 3:\n",
    "            return False\n",
    "        for i in range(len(arr)-2):\n",
    "            if ((arr[i] % 2 == 1) and (arr[i+1] % 2 == 1) and (arr[i+2] % 2 == 1)):\n",
    "                return True\n",
    "            \n",
    "        return False"
   ]
  },
  {
   "cell_type": "markdown",
   "metadata": {},
   "source": [
    "# 1394. Find Lucky Integer in an Array"
   ]
  },
  {
   "cell_type": "code",
   "execution_count": null,
   "metadata": {},
   "outputs": [],
   "source": [
    "class Solution:\n",
    "    def findLucky(self, arr: List[int]) -> int:        \n",
    "        unq = list(set(arr))\n",
    "        unq.sort(reverse=True)\n",
    "        res = []\n",
    "        for i in range(len(unq)):\n",
    "            res.append([unq[i],arr.count(unq[i])])\n",
    "        for i in range(len(res)):\n",
    "            if res[i][0] == res[i][1]:\n",
    "                return res[i][0]\n",
    "                break\n",
    "        return -1"
   ]
  },
  {
   "cell_type": "markdown",
   "metadata": {},
   "source": [
    "# 867. Transpose Matrix"
   ]
  },
  {
   "cell_type": "code",
   "execution_count": null,
   "metadata": {},
   "outputs": [],
   "source": [
    "class Solution:\n",
    "    def transpose(self, matrix: List[List[int]]) -> List[List[int]]:\n",
    "        res = [[matrix[j][i] for j in range(len(matrix))] for i in range(len(matrix[0]))]\n",
    "        return res"
   ]
  },
  {
   "cell_type": "markdown",
   "metadata": {},
   "source": [
    "# 1608. Special Array With X Elements Greater Than or Equal X"
   ]
  },
  {
   "cell_type": "code",
   "execution_count": null,
   "metadata": {},
   "outputs": [],
   "source": [
    "class Solution:\n",
    "    def specialArray(self, nums: List[int]) -> int:\n",
    "        count = 0\n",
    "        for i in range(len(nums)+1):\n",
    "            tmp = len([j for j in nums if j >= i ])\n",
    "            \n",
    "            if i == tmp:\n",
    "                return tmp\n",
    "                \n",
    "        return -1"
   ]
  },
  {
   "cell_type": "markdown",
   "metadata": {},
   "source": [
    "# 1652. Defuse the Bomb"
   ]
  },
  {
   "cell_type": "code",
   "execution_count": null,
   "metadata": {},
   "outputs": [],
   "source": [
    "class Solution:\n",
    "    def decrypt(self, code: List[int], k: int) -> List[int]:\n",
    "        res = [0]*len(code)\n",
    "        left, right = 1, k\n",
    "        if k == 0:\n",
    "            return res\n",
    "        if k < 0:\n",
    "            k = -k\n",
    "            left, right = len(code)-k, len(code)-1\n",
    "        total = sum(code[i] for i in range(left, right+1))\n",
    "        for i in range(len(code)):\n",
    "            res[i] = total\n",
    "            total = total - code[left%len(code)]\n",
    "            total = total + code[(right+1)%len(code)]\n",
    "            left += 1\n",
    "            right += 1\n",
    "        \n",
    "        return res"
   ]
  },
  {
   "cell_type": "markdown",
   "metadata": {},
   "source": [
    "# 1217. Minimum Cost to Move Chips to The Same Position"
   ]
  },
  {
   "cell_type": "code",
   "execution_count": null,
   "metadata": {},
   "outputs": [],
   "source": [
    "class Solution:\n",
    "    def minCostToMoveChips(self, position: List[int]) -> int:\n",
    "        even = 0\n",
    "        odd = 0\n",
    "        for i in range(len(position)):\n",
    "            if position[i] % 2 == 0:\n",
    "                even += 1\n",
    "            else:\n",
    "                odd += 1\n",
    "        return min(even, odd)\n",
    "        "
   ]
  },
  {
   "cell_type": "markdown",
   "metadata": {},
   "source": [
    "# 1002. Find Common Characters"
   ]
  },
  {
   "cell_type": "code",
   "execution_count": null,
   "metadata": {},
   "outputs": [],
   "source": [
    "class Solution:\n",
    "    def commonChars(self, A: List[str]) -> List[str]:\n",
    "        res = []\n",
    "        cmp = []\n",
    "        for i in range(len(A)):\n",
    "            cmp += list(A[i])\n",
    "        unq = list(set(cmp))\n",
    "        for i in range(len(unq)):\n",
    "            tmp = []\n",
    "            for j in range(len(A)):\n",
    "                c = list(A[j])\n",
    "                tmp.append(c.count(unq[i]))\n",
    "            m = min(tmp)\n",
    "            if m != 0:\n",
    "                for k in range(m):\n",
    "                    res.append(unq[i])\n",
    "                \n",
    "          \n",
    "        \n",
    "        \n",
    "            \n",
    "        return res"
   ]
  },
  {
   "cell_type": "markdown",
   "metadata": {},
   "source": [
    "# 1160. Find Words That Can Be Formed by Characters"
   ]
  },
  {
   "cell_type": "code",
   "execution_count": null,
   "metadata": {},
   "outputs": [],
   "source": [
    "class Solution:\n",
    "    def countCharacters(self, words: List[str], chars: str) -> int:\n",
    "        res = 0\n",
    "        \n",
    "        for i in words:\n",
    "            ctmp = list(i)\n",
    "            tmp = False\n",
    "            tmpchar = list(chars)\n",
    "            for j in range(len(ctmp)):\n",
    "                if (ctmp[j] in tmpchar):\n",
    "                    tmp = True\n",
    "                    tmpchar.remove(ctmp[j])\n",
    "                else:\n",
    "                    tmp = False\n",
    "                    break\n",
    "                \n",
    "                \n",
    "            if tmp == True:\n",
    "                res = res + len(ctmp)\n",
    "                \n",
    "        return res\n",
    "                "
   ]
  },
  {
   "cell_type": "markdown",
   "metadata": {},
   "source": [
    "# 1582. Special Positions in a Binary Matrix"
   ]
  },
  {
   "cell_type": "code",
   "execution_count": null,
   "metadata": {},
   "outputs": [],
   "source": [
    "class Solution:\n",
    "    def numSpecial(self, mat: List[List[int]]) -> int:\n",
    "        count = 0\n",
    "        \n",
    "        rows = [0]*len(mat)\n",
    "        cols = [0]*len(mat[0])\n",
    "        \n",
    "        for i in range(len(mat)):\n",
    "            c = 0\n",
    "            for j in range(len(mat[0])):\n",
    "                c = c + mat[i][j]\n",
    "            rows[i] = c\n",
    "            \n",
    "        for i in range(len(mat[0])):\n",
    "            c = 0\n",
    "            for j in range(len(mat)):\n",
    "                c = c + mat[j][i]\n",
    "            cols[i] = c\n",
    "            \n",
    "        \n",
    "        \n",
    "        for i in range(len(mat)):\n",
    "            for j in range(len(mat[0])):\n",
    "                if mat[i][j] == 1 and (rows[i] == 1 and cols[j] == 1):\n",
    "                    count += 1\n",
    "             \n",
    "        return count"
   ]
  },
  {
   "cell_type": "markdown",
   "metadata": {},
   "source": [
    "# 1051. Height Checker"
   ]
  },
  {
   "cell_type": "code",
   "execution_count": null,
   "metadata": {},
   "outputs": [],
   "source": [
    "class Solution:\n",
    "    def heightChecker(self, heights: List[int]) -> int:\n",
    "        count = 0\n",
    "        srheights = sorted(heights)\n",
    "        for i in range(len(heights)):\n",
    "            if heights[i] != srheights[i]:\n",
    "                count += 1\n",
    "                \n",
    "        return count"
   ]
  },
  {
   "cell_type": "markdown",
   "metadata": {},
   "source": [
    "# 1636. Sort Array by Increasing Frequency"
   ]
  },
  {
   "cell_type": "code",
   "execution_count": null,
   "metadata": {},
   "outputs": [],
   "source": [
    "class Solution:\n",
    "    def frequencySort(self, nums: List[int]) -> List[int]:\n",
    "        \n",
    "        count = collections.Counter(nums)\n",
    "        return sorted(nums, key=lambda x: (count[x], -x))\n",
    "    \n",
    "        "
   ]
  },
  {
   "cell_type": "markdown",
   "metadata": {},
   "source": [
    "# 1260. Shift 2D Grid"
   ]
  },
  {
   "cell_type": "code",
   "execution_count": null,
   "metadata": {},
   "outputs": [],
   "source": [
    "class Solution:\n",
    "    def shiftGrid(self, grid: List[List[int]], k: int) -> List[List[int]]:\n",
    "        col = len(grid[0])      \n",
    "        nums = sum(grid,[])\n",
    "        \n",
    "        k = k % len(nums)\n",
    "                \n",
    "        nums = nums[-k:]+nums[:-k]\n",
    "        \n",
    "        return [nums[i:i+col] for i in range(0,len(nums), col)]\n",
    "  \n",
    "        \n",
    "        \n",
    "      "
   ]
  },
  {
   "cell_type": "markdown",
   "metadata": {},
   "source": [
    "# 566. Reshape the Matrix"
   ]
  },
  {
   "cell_type": "code",
   "execution_count": null,
   "metadata": {},
   "outputs": [],
   "source": [
    "class Solution:\n",
    "    def matrixReshape(self, nums: List[List[int]], r: int, c: int) -> List[List[int]]:\n",
    "        \n",
    "        \n",
    "        if len(nums)*len(nums[0]) != r*c: return nums\n",
    "        \n",
    "        nums1d = sum(nums,[])\n",
    "        \n",
    "        return [nums1d[i:i+c] for i in range(0,len(nums1d),c)]"
   ]
  }
 ],
 "metadata": {
  "kernelspec": {
   "display_name": "Python 3",
   "language": "python",
   "name": "python3"
  },
  "language_info": {
   "codemirror_mode": {
    "name": "ipython",
    "version": 3
   },
   "file_extension": ".py",
   "mimetype": "text/x-python",
   "name": "python",
   "nbconvert_exporter": "python",
   "pygments_lexer": "ipython3",
   "version": "3.8.3"
  }
 },
 "nbformat": 4,
 "nbformat_minor": 4
}
