{
 "cells": [
  {
   "cell_type": "markdown",
   "metadata": {},
   "source": [
    "# 1544. Make The String Great"
   ]
  },
  {
   "cell_type": "code",
   "execution_count": null,
   "metadata": {},
   "outputs": [],
   "source": [
    "class Solution:\n",
    "    def makeGood(self, s: str) -> str:\n",
    "        # Solution 1 works, but not efficient\n",
    "        #if len(s) < 2: return s\n",
    "        #s = list(s)\n",
    "        #i = 0\n",
    "        #while i < len(s)-1:\n",
    "        #    print(i,s)\n",
    "        #    if (str(s[i]) != str(s[i+1])) and (str(s[i]).lower() == str(s[i+1]) or str(s[i]) == str(s[i+1]).lower()):\n",
    "        #        s.pop(i)\n",
    "        #        s.pop(i)\n",
    "        #        i = 0\n",
    "        #    else:\n",
    "        #        i += 1\n",
    "\n",
    "        #return \"\".join(s)\n",
    "        \n",
    "        res = []        \n",
    "        for c in s:\n",
    "            if not res:\n",
    "                res.append(c)\n",
    "            elif res[-1].isupper() and res[-1].lower() == c:\n",
    "                res.pop()\n",
    "            elif res[-1].islower() and res[-1].upper() ==c:\n",
    "                res.pop()\n",
    "            else:\n",
    "                res.append(c)\n",
    "        return ''.join(res)"
   ]
  },
  {
   "cell_type": "markdown",
   "metadata": {},
   "source": [
    "# 1496. Path Crossing"
   ]
  },
  {
   "cell_type": "code",
   "execution_count": null,
   "metadata": {},
   "outputs": [],
   "source": [
    "class Solution:\n",
    "    def isPathCrossing(self, path: str) -> bool:\n",
    "        res, stx, sty = False, 0, 0\n",
    "        visited = [[0,0]]\n",
    "        for i in range(len(path)):\n",
    "            if (path[i] == 'N'):\n",
    "                sty = sty + 1\n",
    "            elif (path[i] == 'S'):\n",
    "                sty = sty - 1\n",
    "            elif (path[i] == 'E'):\n",
    "                stx = stx + 1\n",
    "            else:\n",
    "                stx = stx - 1\n",
    "            if ([stx,sty] in visited):\n",
    "                res = True\n",
    "                break\n",
    "            else:\n",
    "                visited.append([stx,sty])\n",
    "        return res\n",
    "                "
   ]
  },
  {
   "cell_type": "markdown",
   "metadata": {},
   "source": [
    "# 520. Detect Capital"
   ]
  },
  {
   "cell_type": "code",
   "execution_count": null,
   "metadata": {},
   "outputs": [],
   "source": [
    "class Solution:\n",
    "    def detectCapitalUse(self, word: str) -> bool:\n",
    "        # = word[1:]\n",
    "        #return ((word.islower() == True) or (word.isupper() == True) or ((word[0].isupper() == True) and (s.islower() == True)))\n",
    "        \n",
    "        return word.islower() or word.isupper() or word.istitle()"
   ]
  },
  {
   "cell_type": "markdown",
   "metadata": {},
   "source": [
    "# 387. First Unique Character in a String"
   ]
  },
  {
   "cell_type": "code",
   "execution_count": null,
   "metadata": {},
   "outputs": [],
   "source": [
    "class Solution:\n",
    "    def firstUniqChar(self, s: str) -> int:\n",
    "        # Solution 1 same logic, but the code can be smaller\n",
    "        #unq = []\n",
    "        #tunq = list(set(s))\n",
    "        #for i in range(len(tunq)):\n",
    "        #    if (s.count(tunq[i]) == 1):\n",
    "        #        unq.append(tunq[i])   \n",
    "        #if (len(unq) == 0):\n",
    "        #    return -1\n",
    "        #for i in range(len(s)):\n",
    "        #    if (s[i] in unq):\n",
    "        #        return i\n",
    "        \n",
    "        unq = list(set(s))\n",
    "        index = [s.index(l) for l in unq if s.count(l) == 1]\n",
    "        return min(index) if len(index) > 0 else -1"
   ]
  },
  {
   "cell_type": "markdown",
   "metadata": {},
   "source": [
    "# 383. Ransom Note"
   ]
  },
  {
   "cell_type": "code",
   "execution_count": null,
   "metadata": {},
   "outputs": [],
   "source": [
    "class Solution:\n",
    "    def canConstruct(self, ransomNote: str, magazine: str) -> bool:\n",
    "        unq = list(set(ransomNote))        \n",
    "        for u in unq:\n",
    "            if magazine.count(u) < ransomNote.count(u):\n",
    "                return False\n",
    "        return True\n"
   ]
  },
  {
   "cell_type": "markdown",
   "metadata": {},
   "source": [
    "# 415. Add Strings"
   ]
  },
  {
   "cell_type": "code",
   "execution_count": null,
   "metadata": {},
   "outputs": [],
   "source": [
    "class Solution:\n",
    "    def addStrings(self, num1: str, num2: str) -> str:\n",
    "        # Solution 1 not in follow up\n",
    "        #return str(int(num1)+int(num2))\n",
    "        \n",
    "        num1 = list(num1)\n",
    "        num2 = list(num2)\n",
    "        carry , res = 0, []\n",
    "        \n",
    "        while len(num1) > 0 or len(num2) > 0 :\n",
    "            n1 = ord(num1.pop())-ord('0') if len(num1) > 0 else 0\n",
    "            n2 = ord(num2.pop())-ord('0') if len(num2) > 0 else 0                \n",
    "            tmp = n1 + n2 + carry            \n",
    "            res.append(tmp % 10)\n",
    "            carry = tmp // 10\n",
    "        if carry: res.append(carry)\n",
    "            \n",
    "        return ''.join([str(i) for i in res])[::-1]"
   ]
  },
  {
   "cell_type": "markdown",
   "metadata": {},
   "source": [
    "# 1668. Maximum Repeating Substring"
   ]
  },
  {
   "cell_type": "code",
   "execution_count": null,
   "metadata": {},
   "outputs": [],
   "source": [
    "class Solution:\n",
    "    def maxRepeating(self, sequence: str, word: str) -> int:\n",
    "        # Do not know why this does not work for 1 result\n",
    "        #k = len(word)\n",
    "        #win = []*k\n",
    "        #i, count = 0, 0\n",
    "        #while i < len(sequence)-k+1:\n",
    "        #    win = sequence[i:i+k]\n",
    "        #    if win == word:\n",
    "        #        count += 1\n",
    "        #        i += k\n",
    "        #    else: \n",
    "        #        i += 1            \n",
    "        #return count\n",
    "        \n",
    "        count = 1\n",
    "        while word*count in sequence:\n",
    "            count += 1\n",
    "        return count - 1"
   ]
  },
  {
   "cell_type": "markdown",
   "metadata": {},
   "source": [
    "# 345. Reverse Vowels of a String"
   ]
  },
  {
   "cell_type": "code",
   "execution_count": null,
   "metadata": {},
   "outputs": [],
   "source": [
    "class Solution:\n",
    "    def reverseVowels(self, s: str) -> str:\n",
    "        # Solution 1 brute force\n",
    "        #vowels = ['a','e','i','o','u','A','E','I','O','U']\n",
    "        #vo, idx = [], []\n",
    "        #for i, v in enumerate(s):\n",
    "        #    if v in vowels:\n",
    "        #        idx.append(i)\n",
    "        #        vo.append(v)\n",
    "        #vo = vo[::-1]\n",
    "        #res = list(s)\n",
    "        #for i in range(len(vo)):\n",
    "        #    res[idx[i]] = vo[i]\n",
    "          \n",
    "        #return ''.join(res)\n",
    "        \n",
    "        ptr1, ptr2 = 0, len(s)-1\n",
    "        vowels = ['a','e','i','o','u','A','E','I','O','U']\n",
    "        res = list(s)\n",
    "        while ptr1 < ptr2:\n",
    "            if res[ptr1] in vowels and res[ptr2] in vowels:\n",
    "                res[ptr1], res[ptr2] = res[ptr2], res[ptr1]\n",
    "                ptr1 += 1\n",
    "                ptr2 -= 1\n",
    "            elif res[ptr1] not in vowels:\n",
    "                ptr1 += 1\n",
    "            elif res[ptr2] not in vowels:\n",
    "                ptr2 -= 1\n",
    "                \n",
    "        return ''.join(res)"
   ]
  },
  {
   "cell_type": "markdown",
   "metadata": {},
   "source": [
    "# 434. Number of Segments in a String"
   ]
  },
  {
   "cell_type": "code",
   "execution_count": null,
   "metadata": {},
   "outputs": [],
   "source": [
    "class Solution:\n",
    "    def countSegments(self, s: str) -> int:\n",
    "        return len(s.split())\n",
    "        "
   ]
  },
  {
   "cell_type": "markdown",
   "metadata": {},
   "source": [
    "# 14. Longest Common Prefix"
   ]
  },
  {
   "cell_type": "code",
   "execution_count": null,
   "metadata": {},
   "outputs": [],
   "source": [
    "class Solution:\n",
    "    def longestCommonPrefix(self, strs: List[str]) -> str:\n",
    "        # Similar way, but shorter code than this\n",
    "        #pr = ''\n",
    "        #if len(strs) == 1:\n",
    "        #    pr = str(strs[0])\n",
    "        #elif strs:\n",
    "        #    cmp = list(strs[0])\n",
    "        #    tmp = []\n",
    "        #    for i in range(len(cmp)):            \n",
    "        #        for j in range(1,len(strs)):\n",
    "        #            c = list(strs[j])\n",
    "        #            if (i < len(c)) and (cmp[i] == c[i]):\n",
    "        #                tmp.append(cmp[i])        \n",
    "        #        if (len(tmp) == len(strs)-1) and (len(set(tmp)) == 1):\n",
    "        #            pr += str(cmp[i])\n",
    "        #            tmp = []\n",
    "        #        else:                 \n",
    "        #            break\n",
    "        #return pr\n",
    "        \n",
    "        shortest = min(strs, key=len)\n",
    "        for i , c in enumerate(shortest):\n",
    "            for a in strs:\n",
    "                if a[i] != c:\n",
    "                    return a[:i]\n",
    "        return shortest"
   ]
  }
 ],
 "metadata": {
  "kernelspec": {
   "display_name": "Python 3",
   "language": "python",
   "name": "python3"
  },
  "language_info": {
   "codemirror_mode": {
    "name": "ipython",
    "version": 3
   },
   "file_extension": ".py",
   "mimetype": "text/x-python",
   "name": "python",
   "nbconvert_exporter": "python",
   "pygments_lexer": "ipython3",
   "version": "3.8.3"
  }
 },
 "nbformat": 4,
 "nbformat_minor": 4
}
