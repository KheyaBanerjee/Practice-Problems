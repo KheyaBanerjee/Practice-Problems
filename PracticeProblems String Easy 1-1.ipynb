{
 "cells": [
  {
   "cell_type": "markdown",
   "metadata": {},
   "source": [
    "# 1108. Defanging an IP Address"
   ]
  },
  {
   "cell_type": "code",
   "execution_count": null,
   "metadata": {},
   "outputs": [],
   "source": [
    "class Solution:\n",
    "    def defangIPaddr(self, address: str) -> str:\n",
    "        res = address.replace('.','[.]')\n",
    "        return res"
   ]
  },
  {
   "cell_type": "markdown",
   "metadata": {},
   "source": [
    "# 1678. Goal Parser Interpretation"
   ]
  },
  {
   "cell_type": "code",
   "execution_count": null,
   "metadata": {},
   "outputs": [],
   "source": [
    "class Solution:\n",
    "    def interpret(self, command: str) -> str:\n",
    "        #res = command.replace('()','o').replace('(al)','al')\n",
    "        #return res\n",
    "        \n",
    "        i, res = 0, ''\n",
    "        while i < len(command):\n",
    "            if command[i] == 'G': \n",
    "                res += 'G'\n",
    "                i += 1\n",
    "            elif command[i+1] == ')': \n",
    "                res += 'o'\n",
    "                i += 2\n",
    "            else: \n",
    "                res += 'al'\n",
    "                i += 4\n",
    "        return res"
   ]
  },
  {
   "cell_type": "markdown",
   "metadata": {},
   "source": [
    "# 1773. Count Items Matching a Rule"
   ]
  },
  {
   "cell_type": "code",
   "execution_count": null,
   "metadata": {},
   "outputs": [],
   "source": [
    "class Solution:\n",
    "    def countMatches(self, items: List[List[str]], ruleKey: str, ruleValue: str) -> int:\n",
    "        # Same code, but in short form\n",
    "        #idx = ['type','color','name']\n",
    "        #pos = idx.index(ruleKey)\n",
    "        #count = 0\n",
    "        #for i in range(len(items)):\n",
    "        #    if ruleValue == items[i][pos]:\n",
    "        #        count = count + 1\n",
    "        #return count\n",
    "        \n",
    "        rule = {'type' : 0, 'color' : 1, 'name' : 2}\n",
    "        count, idx = 0, rule[ruleKey]\n",
    "        for item in items:\n",
    "            if item[idx] == ruleValue:\n",
    "                count += 1\n",
    "        return count"
   ]
  },
  {
   "cell_type": "markdown",
   "metadata": {},
   "source": [
    "# 1221. Split a String in Balanced Strings"
   ]
  },
  {
   "cell_type": "code",
   "execution_count": null,
   "metadata": {},
   "outputs": [],
   "source": [
    "class Solution:\n",
    "    def balancedStringSplit(self, s: str) -> int:\n",
    "        # Code can be smaller, same logic\n",
    "        #Ls, Rs, res = 0, 0, 0\n",
    "        #for i in range(len(s)):\n",
    "        #    if (s[i] == 'L'):\n",
    "        #        Ls = Ls + 1\n",
    "        #    else:\n",
    "        #        Rs = Rs + 1\n",
    "        #    if (Rs == Ls):\n",
    "        #        res += 1\n",
    "        #        Ls = Rs = 0\n",
    "        #return res\n",
    "        \n",
    "        res, count = 0, 0\n",
    "        for c in s:\n",
    "            count +=1 if c == 'L' else -1\n",
    "            if count == 0:\n",
    "                res += 1\n",
    "        return res"
   ]
  },
  {
   "cell_type": "markdown",
   "metadata": {},
   "source": [
    "# 1832. Check if the Sentence Is Pangram"
   ]
  },
  {
   "cell_type": "code",
   "execution_count": null,
   "metadata": {},
   "outputs": [],
   "source": [
    "class Solution:\n",
    "    def checkIfPangram(self, sentence: str) -> bool:        \n",
    "        return len(set(sentence)) == 26"
   ]
  },
  {
   "cell_type": "markdown",
   "metadata": {},
   "source": [
    "# 1844. Replace All Digits with Characters"
   ]
  },
  {
   "cell_type": "code",
   "execution_count": null,
   "metadata": {},
   "outputs": [],
   "source": [
    "class Solution:\n",
    "    def replaceDigits(self, s: str) -> str:\n",
    "        s = list(s)\n",
    "        res = ''\n",
    "        for i in range(0,len(s),2):\n",
    "            idx = ascii_lowercase.index(s[i])\n",
    "            if i+1 < len(s):\n",
    "                s[i+1] = ascii_lowercase[idx+int(s[i+1])] \n",
    "        return ''.join(s)"
   ]
  },
  {
   "cell_type": "markdown",
   "metadata": {},
   "source": [
    "# 1614. Maximum Nesting Depth of the Parentheses"
   ]
  },
  {
   "cell_type": "code",
   "execution_count": null,
   "metadata": {},
   "outputs": [],
   "source": [
    "class Solution:\n",
    "    def maxDepth(self, s: str) -> int:\n",
    "        # Same logic, smaller code\n",
    "        #max = 0\n",
    "        #total_max = 0\n",
    "        #for i in s:\n",
    "        #    if i == '(':\n",
    "        #        max = max + 1\n",
    "        #        if max > total_max:\n",
    "        #            total_max = max\n",
    "        #    elif i == ')':\n",
    "        #        if max > 0:\n",
    "        #            max = max - 1\n",
    "        #        else:\n",
    "        #            return -1\n",
    "        #if max != 0:\n",
    "        #    return -1\n",
    "        #return total_max\n",
    "        \n",
    "        cur, res = 0, 0\n",
    "        for c in s:\n",
    "            if c == '(':\n",
    "                cur += 1\n",
    "                res = max(res,cur)\n",
    "            elif c == ')':\n",
    "                cur -= 1\n",
    "        return res"
   ]
  },
  {
   "cell_type": "markdown",
   "metadata": {},
   "source": [
    "# 1662. Check If Two String Arrays are Equivalent"
   ]
  },
  {
   "cell_type": "code",
   "execution_count": null,
   "metadata": {},
   "outputs": [],
   "source": [
    "class Solution:\n",
    "    def arrayStringsAreEqual(self, word1: List[str], word2: List[str]) -> bool:\n",
    "        # Rewriting the code , smaller\n",
    "        #res = False\n",
    "        #w1 = ''.join(word1)\n",
    "        #w2 = ''.join(word2)\n",
    "        #if w1 == w2:\n",
    "        #    res = True\n",
    "        #return res\n",
    "        \n",
    "        return ''.join(word1) == ''.join(word2)"
   ]
  },
  {
   "cell_type": "markdown",
   "metadata": {},
   "source": [
    "# 1684. Count the Number of Consistent Strings"
   ]
  },
  {
   "cell_type": "code",
   "execution_count": null,
   "metadata": {},
   "outputs": [],
   "source": [
    "class Solution:\n",
    "    def countConsistentStrings(self, allowed: str, words: List[str]) -> int:\n",
    "        # This is faster than 1liner\n",
    "        count = 0\n",
    "        for word in words:\n",
    "            count += 1\n",
    "            for c in word:\n",
    "                if c not in allowed:\n",
    "                    count -= 1\n",
    "                    break            \n",
    "        return count\n",
    "        \n",
    "        #return sum(all(c in allowed for c in word) for word in words)"
   ]
  },
  {
   "cell_type": "markdown",
   "metadata": {},
   "source": [
    "# 709. To Lower Case"
   ]
  },
  {
   "cell_type": "code",
   "execution_count": null,
   "metadata": {},
   "outputs": [],
   "source": [
    "class Solution:\n",
    "    def toLowerCase(self, str: str) -> str:\n",
    "        # Can be done without built in\n",
    "        #return str.lower()\n",
    "        \n",
    "        return ''.join(chr(ord(c)+32) if 'A' <= c <= 'Z' else c for c in str)"
   ]
  }
 ],
 "metadata": {
  "kernelspec": {
   "display_name": "Python 3",
   "language": "python",
   "name": "python3"
  },
  "language_info": {
   "codemirror_mode": {
    "name": "ipython",
    "version": 3
   },
   "file_extension": ".py",
   "mimetype": "text/x-python",
   "name": "python",
   "nbconvert_exporter": "python",
   "pygments_lexer": "ipython3",
   "version": "3.8.3"
  }
 },
 "nbformat": 4,
 "nbformat_minor": 4
}
