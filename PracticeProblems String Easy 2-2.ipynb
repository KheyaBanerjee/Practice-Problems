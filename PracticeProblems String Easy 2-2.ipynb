{
 "cells": [
  {
   "cell_type": "markdown",
   "metadata": {},
   "source": [
    "# 925. Long Pressed Name"
   ]
  },
  {
   "cell_type": "code",
   "execution_count": null,
   "metadata": {},
   "outputs": [],
   "source": [
    "class Solution:\n",
    "    def isLongPressedName(self, name: str, typed: str) -> bool:\n",
    "        \n",
    "        i, j = 0, 0\n",
    "        \n",
    "        for j in range(len(typed)):\n",
    "            if i < len(name) and name[i] == typed[j]:\n",
    "                i += 1\n",
    "            elif j== 0 or typed[j] != typed[j-1]:\n",
    "                return False\n",
    "        return i == len(name)\n",
    "        "
   ]
  },
  {
   "cell_type": "markdown",
   "metadata": {},
   "source": [
    "# 680. Valid Palindrome II"
   ]
  },
  {
   "cell_type": "code",
   "execution_count": null,
   "metadata": {},
   "outputs": [],
   "source": [
    "class Solution:\n",
    "    def validPalindrome(self, s: str) -> bool:\n",
    "        # Accepted, but similar thinking can be written more concisely\n",
    "        #if (s[1:] == s[1:][::-1]) or (s[:-1] == s[:-1][::-1]):\n",
    "        #    return True\n",
    "        #else:\n",
    "        #    for i in range((len(s)+1)//2):\n",
    "        #        if s[i] != s[-(i+1)]:\n",
    "        #            t1 = s[:i]+s[i+1:]\n",
    "        #            t2 = s[:-(i+1)]+s[-i:]\n",
    "        #            if (t1 == t1[::-1]) or (t2 == t2[::-1]):\n",
    "        #                return True\n",
    "        #            else:\n",
    "        #                return False\n",
    "        #return True\n",
    "        \n",
    "        left, right = 0, len(s)-1\n",
    "        while left < right:\n",
    "            if s[left] != s[right]:\n",
    "                one, two = s[left:right], s[left+1:right+1]\n",
    "                if one == one[::-1] or two == two[::-1]:\n",
    "                    return True\n",
    "                else:\n",
    "                    return False\n",
    "            left += 1\n",
    "            right -= 1\n",
    "        return True"
   ]
  },
  {
   "cell_type": "markdown",
   "metadata": {},
   "source": [
    "# 20. Valid Parentheses"
   ]
  },
  {
   "cell_type": "code",
   "execution_count": null,
   "metadata": {},
   "outputs": [],
   "source": [
    "class Solution:\n",
    "    def isValid(self, s: str) -> bool:\n",
    "        # Accepted solution, but long code, similar approach\n",
    "        #res = []\n",
    "        #for i in range(len(s)):\n",
    "        #    if (s[i] == '(' or s[i] == '{' or s[i] == '['):\n",
    "        #        if i == len(s)-1:\n",
    "        #            return False\n",
    "        #            break\n",
    "        #        res.append(s[i])\n",
    "        #        #print(res)\n",
    "        #    else:\n",
    "        #        if (i == 0 or len(res) == 0):\n",
    "        #            return False\n",
    "        #            break            \n",
    "        #        tmp = res[-1]\n",
    "        #        #print(tmp)\n",
    "        #        if ((tmp == '(' and s[i] == ')') or (tmp == '{' and s[i] == '}') or (tmp == '[' and s[i] == ']')):\n",
    "        #            res.pop()\n",
    "        #        else:\n",
    "        #            return False\n",
    "        #            break\n",
    "        #if len(res) == 0:\n",
    "        #    return True\n",
    "        #else:\n",
    "        #    return False\n",
    "        \n",
    "        dic = {')':'(','}':'{',']':'['}\n",
    "        stack = []\n",
    "        for c in s:\n",
    "            if c in dic.values():\n",
    "                stack.append(c)\n",
    "            elif c in dic.keys():\n",
    "                if not stack or stack.pop() != dic[c]:\n",
    "                    return False\n",
    "        return stack == []"
   ]
  },
  {
   "cell_type": "markdown",
   "metadata": {},
   "source": [
    "# 1736. Latest Time by Replacing Hidden Digits"
   ]
  },
  {
   "cell_type": "code",
   "execution_count": null,
   "metadata": {},
   "outputs": [],
   "source": [
    "class Solution:\n",
    "    def maximumTime(self, time: str) -> str:\n",
    "        \n",
    "        t = list(time)\n",
    "        if t[0] == '?':\n",
    "            if t[1] in '?0123': t[0] = '2'\n",
    "            else: t[0] = '1'\n",
    "        if t[1] == '?':\n",
    "            if t[0] == '2': t[1] = '3'\n",
    "            else: t[1] = '9'\n",
    "        if t[3] == '?':\n",
    "            t[3] = '5'\n",
    "        if t[4]  == '?':\n",
    "            t[4] = '9'\n",
    "            \n",
    "        return ''.join(t)"
   ]
  },
  {
   "cell_type": "markdown",
   "metadata": {},
   "source": [
    "# 1592. Rearrange Spaces Between Words"
   ]
  },
  {
   "cell_type": "code",
   "execution_count": null,
   "metadata": {},
   "outputs": [],
   "source": [
    "class Solution:\n",
    "    def reorderSpaces(self, text: str) -> str:\n",
    "        sp = text.count(' ')\n",
    "        ss = text.split()\n",
    "        n = len(ss)\n",
    "        if n == 1: div = 0\n",
    "        else: div = sp//(n-1) \n",
    "        rem = sp - div*(n-1)\n",
    "        \n",
    "        return (' '*div).join(ss) + ' '*rem\n",
    "        "
   ]
  },
  {
   "cell_type": "markdown",
   "metadata": {},
   "source": [
    "# 1071. Greatest Common Divisor of Strings"
   ]
  },
  {
   "cell_type": "code",
   "execution_count": null,
   "metadata": {},
   "outputs": [],
   "source": [
    "class Solution:\n",
    "    def gcdOfStrings(self, str1: str, str2: str) -> str:\n",
    "        if len(str1) > len(str2):\n",
    "            divisor = str2\n",
    "        else:\n",
    "            divisor = str1\n",
    "        res = ''\n",
    "        while (divisor != ''):\n",
    "            tmp1 = str1.replace(divisor,'')\n",
    "            tmp2 = str2.replace(divisor,'')\n",
    "            if ((tmp1 == '') and(tmp2 == '')):\n",
    "                res = divisor\n",
    "                break\n",
    "            else:\n",
    "                divisor = divisor[:-1]\n",
    "        return res"
   ]
  },
  {
   "cell_type": "markdown",
   "metadata": {},
   "source": [
    "# 1576. Replace All ?'s to Avoid Consecutive Repeating Characters"
   ]
  },
  {
   "cell_type": "code",
   "execution_count": null,
   "metadata": {},
   "outputs": [],
   "source": [
    "class Solution:\n",
    "    def modifyString(self, s: str) -> str:\n",
    "        # Showing runtime error\n",
    "        #s = list(s)\n",
    "        #alp = list(string.ascii_lowercase)\n",
    "        #for i in range(len(s)):            \n",
    "        #    if (s[i] == '?'):\n",
    "        #        if (i == 0):\n",
    "        #            let = list(s[i+1])\n",
    "        #        elif (i == len(s)-1):\n",
    "        #            let = list(s[-2])\n",
    "        #        else:\n",
    "        #            let = [s[i-1],s[i+1]]\n",
    "        #        print(let)\n",
    "        #        for j in range(26):\n",
    "        #            if (alp[j] not in let):\n",
    "        #                s[i] = alp[j]\n",
    "        #                break\n",
    "        #return ''.join(s)\n",
    "        \n",
    "        res = ''\n",
    "        prev = '?'\n",
    "        for i, c in enumerate(s):\n",
    "            nxt = s[i+1] if i+1 < len(s) else '?' \n",
    "            prev = c if c != '?' else {'a','b','c'}.difference({prev, nxt}).pop()\n",
    "            res += prev\n",
    "        return res"
   ]
  },
  {
   "cell_type": "markdown",
   "metadata": {},
   "source": [
    "# 1796. Second Largest Digit in a String"
   ]
  },
  {
   "cell_type": "code",
   "execution_count": null,
   "metadata": {},
   "outputs": [],
   "source": [
    "class Solution:\n",
    "    def secondHighest(self, s: str) -> int:\n",
    "        \n",
    "        dig = sorted(list(set([int(i) for i in s if i.isdigit()])), reverse=True)        \n",
    "        if len(dig) < 2:\n",
    "            return -1\n",
    "        else:\n",
    "            return dig[1]"
   ]
  },
  {
   "cell_type": "markdown",
   "metadata": {},
   "source": [
    "# 67. Add Binary"
   ]
  },
  {
   "cell_type": "code",
   "execution_count": null,
   "metadata": {},
   "outputs": [],
   "source": [
    "class Solution:\n",
    "    def addBinary(self, a: str, b: str) -> str:\n",
    "        # Using built in data structures\n",
    "        #return str(bin(int(a,2)+int(b,2)))[2:]\n",
    "        \n",
    "        a = list(a)\n",
    "        b = list(b)\n",
    "        res = ''\n",
    "        carry = 0        \n",
    "        while a or b or carry:\n",
    "            if a:\n",
    "                carry += int(a.pop())\n",
    "            if b:\n",
    "                carry += int(b.pop())\n",
    "            res += str(carry % 2)\n",
    "            carry //= 2\n",
    "        return res[::-1]"
   ]
  },
  {
   "cell_type": "markdown",
   "metadata": {},
   "source": [
    "# 1805. Number of Different Integers in a String"
   ]
  },
  {
   "cell_type": "code",
   "execution_count": null,
   "metadata": {},
   "outputs": [],
   "source": [
    "class Solution:\n",
    "    def numDifferentIntegers(self, word: str) -> int:\n",
    "        return len(set(map(int, re.findall(r'\\d+', word))))"
   ]
  }
 ],
 "metadata": {
  "kernelspec": {
   "display_name": "Python 3",
   "language": "python",
   "name": "python3"
  },
  "language_info": {
   "codemirror_mode": {
    "name": "ipython",
    "version": 3
   },
   "file_extension": ".py",
   "mimetype": "text/x-python",
   "name": "python",
   "nbconvert_exporter": "python",
   "pygments_lexer": "ipython3",
   "version": "3.8.3"
  }
 },
 "nbformat": 4,
 "nbformat_minor": 4
}
