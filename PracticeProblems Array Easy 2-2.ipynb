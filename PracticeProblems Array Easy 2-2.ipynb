{
 "cells": [
  {
   "cell_type": "markdown",
   "metadata": {},
   "source": [
    "# 1752. Check if Array Is Sorted and Rotated"
   ]
  },
  {
   "cell_type": "code",
   "execution_count": null,
   "metadata": {},
   "outputs": [],
   "source": [
    "class Solution:\n",
    "    def check(self, nums: List[int]) -> bool:\n",
    "        return sum([nums[i] < nums[i-1] for i in range(len(nums))]) <= 1"
   ]
  },
  {
   "cell_type": "markdown",
   "metadata": {},
   "source": [
    "# 1287. Element Appearing More Than 25% In Sorted Array"
   ]
  },
  {
   "cell_type": "code",
   "execution_count": null,
   "metadata": {},
   "outputs": [],
   "source": [
    "class Solution:\n",
    "    def findSpecialInteger(self, arr: List[int]) -> int:\n",
    "        # Solution 1\n",
    "        #unq = list(set(arr))\n",
    "        #for i in range(len(unq)):\n",
    "        #    if arr.count(unq[i]) > len(arr)/4:\n",
    "        #        return unq[i]\n",
    "        \n",
    "        n = len(arr)//4\n",
    "        for i in range(len(arr)):\n",
    "            if arr[i] == arr[i+n]:\n",
    "                return arr[i]"
   ]
  },
  {
   "cell_type": "markdown",
   "metadata": {},
   "source": [
    "# 169. Majority Element"
   ]
  },
  {
   "cell_type": "code",
   "execution_count": null,
   "metadata": {},
   "outputs": [],
   "source": [
    "class Solution:\n",
    "    def majorityElement(self, nums: List[int]) -> int:\n",
    "        #unq = list(set(nums))\n",
    "        #for i in range(len(unq)):\n",
    "        #    if nums.count(unq[i]) > len(nums)/2:\n",
    "        #        return unq[i]\n",
    "        \n",
    "        return Counter(nums).most_common(1)[0][0]\n",
    "        "
   ]
  },
  {
   "cell_type": "markdown",
   "metadata": {},
   "source": [
    "# 1640. Check Array Formation Through Concatenation"
   ]
  },
  {
   "cell_type": "code",
   "execution_count": null,
   "metadata": {},
   "outputs": [],
   "source": [
    "class Solution:\n",
    "    def canFormArray(self, arr: List[int], pieces: List[List[int]]) -> bool:\n",
    "        mp = {x[0]:x for x in pieces}\n",
    "        res = []\n",
    "        \n",
    "        for i in arr:\n",
    "            res += mp.get(i,[])\n",
    "            \n",
    "        return arr == res\n",
    "        "
   ]
  },
  {
   "cell_type": "markdown",
   "metadata": {},
   "source": [
    "# 888. Fair Candy Swap"
   ]
  },
  {
   "cell_type": "code",
   "execution_count": null,
   "metadata": {},
   "outputs": [],
   "source": [
    "class Solution:\n",
    "    def fairCandySwap(self, A: List[int], B: List[int]) -> List[int]:\n",
    "        dif = (sum(A)-sum(B))/2\n",
    "        A = set(A)\n",
    "        \n",
    "        for i in set(B):\n",
    "            if dif+i in A:\n",
    "                return [dif+i,i]"
   ]
  },
  {
   "cell_type": "markdown",
   "metadata": {},
   "source": [
    "# 1629. Slowest Key"
   ]
  },
  {
   "cell_type": "code",
   "execution_count": null,
   "metadata": {},
   "outputs": [],
   "source": [
    "class Solution:\n",
    "    def slowestKey(self, releaseTimes: List[int], keysPressed: str) -> str:\n",
    "        # Solution 1\n",
    "        #dur = [0]*len(releaseTimes)\n",
    "        #for i in range(len(releaseTimes)):\n",
    "        #    if i == 0:\n",
    "        #        dur[i] = releaseTimes[i]\n",
    "        #    else:\n",
    "        #        dur[i] = releaseTimes[i] - releaseTimes[i-1]\n",
    "                \n",
    "        #if dur.count(max(dur)) > 1:\n",
    "        #    idx = [i for i,x in enumerate(dur) if x == max(dur)]\n",
    "        #    tmp = [keysPressed[i] for i in idx]\n",
    "        #    return sorted(tmp)[-1]\n",
    "        #else:\n",
    "        #    return keysPressed[dur.index(max(dur))]\n",
    "        \n",
    "        t, k = releaseTimes[0], keysPressed[0]\n",
    "        \n",
    "        for i in range(1,len(releaseTimes)):\n",
    "            time = releaseTimes[i] - releaseTimes[i-1]\n",
    "            if time > t or (time == t and keysPressed[i] > k):\n",
    "                t = time\n",
    "                k = keysPressed[i]\n",
    "                \n",
    "        return k\n",
    "            \n",
    "        "
   ]
  },
  {
   "cell_type": "markdown",
   "metadata": {},
   "source": [
    "# 1758. Minimum Changes To Make Alternating Binary String"
   ]
  },
  {
   "cell_type": "code",
   "execution_count": null,
   "metadata": {},
   "outputs": [],
   "source": [
    "class Solution:\n",
    "    def minOperations(self, s: str) -> int:\n",
    "        # Solution 1\n",
    "        #count0, count1 = 0, 0\n",
    "        #for i in range(len(s)):\n",
    "        #    if i % 2 == 0:\n",
    "        #        if s[i] == '1':\n",
    "        #            count0 += 1\n",
    "        #        else:\n",
    "        #            count1 += 1\n",
    "        #    else:\n",
    "        #        if s[i] == '1':\n",
    "        #            count1 += 1\n",
    "        #        else:\n",
    "        #            count0 += 1\n",
    "        #return min(count0,count1)\n",
    "        \n",
    "        res = sum(int(s[i]) == i%2 for i in range(len(s)))\n",
    "        return min(res, len(s)-res)\n",
    "           "
   ]
  },
  {
   "cell_type": "markdown",
   "metadata": {},
   "source": [
    "# 283. Move Zeroes"
   ]
  },
  {
   "cell_type": "code",
   "execution_count": null,
   "metadata": {},
   "outputs": [],
   "source": [
    "class Solution:\n",
    "    def moveZeroes(self, nums: List[int]) -> None:\n",
    "        \"\"\"\n",
    "        Do not return anything, modify nums in-place instead.\n",
    "        \"\"\"\n",
    "        n = len(nums)\n",
    "        sb= 0\n",
    "        for i in range(n):\n",
    "            if nums[i] == 0:\n",
    "                sb += 1\n",
    "            elif sb > 0:\n",
    "                nums[i-sb] = nums[i]\n",
    "                nums[i] = 0\n",
    "                \n",
    "        return nums"
   ]
  },
  {
   "cell_type": "markdown",
   "metadata": {},
   "source": [
    "# 896. Monotonic Array"
   ]
  },
  {
   "cell_type": "code",
   "execution_count": null,
   "metadata": {},
   "outputs": [],
   "source": [
    "class Solution:\n",
    "    def isMonotonic(self, A: List[int]) -> bool:\n",
    "        # Solution 1\n",
    "        #fwd = sorted(A)\n",
    "        #rev = sorted(A, reverse=True)        \n",
    "        #return (fwd == A) or (rev == A)\n",
    "        \n",
    "        return not { (i>j)-(i<j) for i, j in zip(A, A[1:])} >= {1, -1}"
   ]
  },
  {
   "cell_type": "markdown",
   "metadata": {},
   "source": [
    "# 217. Contains Duplicate"
   ]
  },
  {
   "cell_type": "code",
   "execution_count": null,
   "metadata": {},
   "outputs": [],
   "source": [
    "class Solution:\n",
    "    def containsDuplicate(self, nums: List[int]) -> bool:\n",
    "        return not len(nums) == len(list(set(nums)))"
   ]
  }
 ],
 "metadata": {
  "kernelspec": {
   "display_name": "Python 3",
   "language": "python",
   "name": "python3"
  },
  "language_info": {
   "codemirror_mode": {
    "name": "ipython",
    "version": 3
   },
   "file_extension": ".py",
   "mimetype": "text/x-python",
   "name": "python",
   "nbconvert_exporter": "python",
   "pygments_lexer": "ipython3",
   "version": "3.8.3"
  }
 },
 "nbformat": 4,
 "nbformat_minor": 4
}
