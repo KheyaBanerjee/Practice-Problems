{
 "cells": [
  {
   "cell_type": "markdown",
   "metadata": {},
   "source": [
    "# 448. Find All Numbers Disappeared in an Array"
   ]
  },
  {
   "cell_type": "code",
   "execution_count": null,
   "metadata": {},
   "outputs": [],
   "source": [
    "class Solution:\n",
    "    def findDisappearedNumbers(self, nums: List[int]) -> List[int]:\n",
    "        # Solution 1\n",
    "        #res = []\n",
    "        #for i in range(1,len(nums)+1):\n",
    "        #    if i not in nums:\n",
    "        #        res.append(i)                \n",
    "        #return res\n",
    "        \n",
    "        for i in range(len(nums)):\n",
    "            idx = abs(nums[i])-1\n",
    "            nums[idx] = -1*abs(nums[idx])\n",
    "            \n",
    "        return [i+1 for i in range(len(nums)) if nums[i] > 0]"
   ]
  },
  {
   "cell_type": "markdown",
   "metadata": {},
   "source": [
    "# 167. Two Sum II - Input array is sorted"
   ]
  },
  {
   "cell_type": "code",
   "execution_count": null,
   "metadata": {},
   "outputs": [],
   "source": [
    "class Solution:\n",
    "    def twoSum(self, numbers: List[int], target: int) -> List[int]:\n",
    "        # Solution 1        \n",
    "        #for i in range(len(numbers)):\n",
    "        #    if target-numbers[i] in numbers[i+1:]:\n",
    "        #        return [i+1,numbers[i+1:].index(target-numbers[i])+i+2]\n",
    "        \n",
    "        l,r = 0,len(numbers)-1\n",
    "        while l < r:\n",
    "            s = numbers[l]+numbers[r]\n",
    "            if s == target:\n",
    "                return [l+1,r+1]\n",
    "            elif s < target:\n",
    "                l += 1\n",
    "            else:\n",
    "                r -= 1\n",
    "            \n",
    "        "
   ]
  },
  {
   "cell_type": "markdown",
   "metadata": {},
   "source": [
    "# 118. Pascal's Triangle"
   ]
  },
  {
   "cell_type": "code",
   "execution_count": null,
   "metadata": {},
   "outputs": [],
   "source": [
    "class Solution:\n",
    "    def generate(self, numRows: int) -> List[List[int]]:\n",
    "        # Solution 1\n",
    "        #if numRows == 1:\n",
    "        #    return [[1]]\n",
    "        #res = [[1]]\n",
    "        #for i in range(1,numRows):\n",
    "        #    rowlen = i+1\n",
    "        #    tmp = [0]*rowlen\n",
    "        #    prev = res[-1]\n",
    "        #    for j in range(rowlen):\n",
    "        #        if j == 0:\n",
    "        #            tmp[j] = prev[0]\n",
    "        #        elif j == rowlen-1:\n",
    "        #            tmp[j] = prev[-1]\n",
    "        #        else:\n",
    "        #            tmp[j] = prev[j-1]+prev[j]\n",
    "        #    res.append(tmp)\n",
    "        #return res\n",
    "        \n",
    "        res = [[1]*(i+1) for i in range(numRows)]\n",
    "        \n",
    "        for i in range(2, numRows):\n",
    "            for j in range(1,i):\n",
    "                res[i][j] = res[i-1][j-1] + res[i-1][j]\n",
    "                \n",
    "        return res\n",
    "                    \n",
    "        \n",
    "        "
   ]
  },
  {
   "cell_type": "markdown",
   "metadata": {},
   "source": [
    "# 268. Missing Number"
   ]
  },
  {
   "cell_type": "code",
   "execution_count": null,
   "metadata": {},
   "outputs": [],
   "source": [
    "class Solution:\n",
    "    def missingNumber(self, nums: List[int]) -> int:\n",
    "        n = len(nums)\n",
    "        return int((n*(n+1)/2) - sum(nums))\n"
   ]
  },
  {
   "cell_type": "markdown",
   "metadata": {},
   "source": [
    "# 119. Pascal's Triangle II"
   ]
  },
  {
   "cell_type": "code",
   "execution_count": null,
   "metadata": {},
   "outputs": [],
   "source": [
    "class Solution:\n",
    "    def getRow(self, rowIndex: int) -> List[int]:\n",
    "        res = [[1]*(i+1) for i in range(rowIndex+1)]\n",
    "        for i in range(2,rowIndex+1):\n",
    "            for j in range(1,i):\n",
    "                res[i][j] = res[i-1][j-1] + res[i-1][j]\n",
    "        return res[-1]\n",
    "        "
   ]
  },
  {
   "cell_type": "markdown",
   "metadata": {},
   "source": [
    "# 485. Max Consecutive Ones"
   ]
  },
  {
   "cell_type": "code",
   "execution_count": null,
   "metadata": {},
   "outputs": [],
   "source": [
    "class Solution:\n",
    "    def findMaxConsecutiveOnes(self, nums: List[int]) -> int:\n",
    "        count = 0\n",
    "        maxwid = 0\n",
    "        \n",
    "        for num in nums:\n",
    "            if num == 1:\n",
    "                count += 1\n",
    "                maxwid = max(maxwid,count)\n",
    "            else:\n",
    "                count = 0\n",
    "            \n",
    "        return maxwid"
   ]
  },
  {
   "cell_type": "markdown",
   "metadata": {},
   "source": [
    "# 1184. Distance Between Bus Stops"
   ]
  },
  {
   "cell_type": "code",
   "execution_count": null,
   "metadata": {},
   "outputs": [],
   "source": [
    "class Solution:\n",
    "    def distanceBetweenBusStops(self, distance: List[int], start: int, destination: int) -> int:\n",
    "        if start > destination:\n",
    "            start, destination = destination, start\n",
    "        cw = distance[start:destination]\n",
    "        ccw = distance[destination:] + distance[:start]\n",
    "        \n",
    "        return min(sum(cw),sum(ccw))\n",
    "        # Alternatively\n",
    "        # return min(sum(cw), sum(distance)-sum(cw))"
   ]
  },
  {
   "cell_type": "markdown",
   "metadata": {},
   "source": [
    "# 1539. Kth Missing Positive Number"
   ]
  },
  {
   "cell_type": "code",
   "execution_count": null,
   "metadata": {},
   "outputs": [],
   "source": [
    "class Solution:\n",
    "    def findKthPositive(self, arr: List[int], k: int) -> int:\n",
    "        #srt = 1\n",
    "        #count = 0\n",
    "        \n",
    "        #while count < k:\n",
    "        #    if srt not in arr:\n",
    "        #        count += 1                           \n",
    "        #    srt += 1\n",
    "        #return srt-1\n",
    "            \n",
    "        l, r = 0, len(arr)\n",
    "        while l < r:\n",
    "            m = (l + r) // 2\n",
    "            if arr[m] - 1 - m < k:\n",
    "                l = m + 1\n",
    "            else:\n",
    "                r = m\n",
    "        return l + k\n",
    "        "
   ]
  },
  {
   "cell_type": "code",
   "execution_count": null,
   "metadata": {},
   "outputs": [],
   "source": []
  },
  {
   "cell_type": "code",
   "execution_count": null,
   "metadata": {},
   "outputs": [],
   "source": []
  },
  {
   "cell_type": "code",
   "execution_count": null,
   "metadata": {},
   "outputs": [],
   "source": []
  },
  {
   "cell_type": "code",
   "execution_count": null,
   "metadata": {},
   "outputs": [],
   "source": []
  }
 ],
 "metadata": {
  "kernelspec": {
   "display_name": "Python 3",
   "language": "python",
   "name": "python3"
  },
  "language_info": {
   "codemirror_mode": {
    "name": "ipython",
    "version": 3
   },
   "file_extension": ".py",
   "mimetype": "text/x-python",
   "name": "python",
   "nbconvert_exporter": "python",
   "pygments_lexer": "ipython3",
   "version": "3.8.3"
  }
 },
 "nbformat": 4,
 "nbformat_minor": 4
}
