{
 "cells": [
  {
   "cell_type": "markdown",
   "metadata": {},
   "source": [
    "# 551. Student Attendance Record I"
   ]
  },
  {
   "cell_type": "code",
   "execution_count": null,
   "metadata": {},
   "outputs": [],
   "source": [
    "class Solution:\n",
    "    def checkRecord(self, s: str) -> bool:\n",
    "        # Similar code, but smaller\n",
    "        #if s.count('A') >= 2:\n",
    "        #    return False\n",
    "        #elif len(s) < 3:\n",
    "        #    return True\n",
    "        #else:\n",
    "        #    win = []*3\n",
    "        #    for i in range(len(s)-2):\n",
    "        #        win = s[i:i+3]\n",
    "        #        if len(set(win)) == 1 and win[0] == 'L':\n",
    "        #            return False\n",
    "        #return True\n",
    "        \n",
    "        # Runtime is higher than previous solution\n",
    "        return s.count('A') < 2 and s.count('LLL') == 0"
   ]
  },
  {
   "cell_type": "markdown",
   "metadata": {},
   "source": [
    "# 459. Repeated Substring Pattern"
   ]
  },
  {
   "cell_type": "code",
   "execution_count": null,
   "metadata": {},
   "outputs": [],
   "source": [
    "class Solution:\n",
    "    def repeatedSubstringPattern(self, s: str) -> bool:\n",
    "        div = s[0]\n",
    "        for i in range(len(s)-1):\n",
    "            tmp = s.replace(div,'')\n",
    "            if len(tmp) == 0:\n",
    "                return True\n",
    "                break            \n",
    "            else:\n",
    "                div = div + s[i+1]\n",
    "        return False"
   ]
  },
  {
   "cell_type": "markdown",
   "metadata": {},
   "source": [
    "# 1736. Latest Time by Replacing Hidden Digits"
   ]
  },
  {
   "cell_type": "code",
   "execution_count": null,
   "metadata": {},
   "outputs": [],
   "source": [
    "class Solution:\n",
    "    def maximumTime(self, time: str) -> str:\n",
    "        \n",
    "        t = list(time)\n",
    "        if t[0] == '?':\n",
    "            if t[1] in '?0123': t[0] = '2'\n",
    "            else: t[0] = '1'\n",
    "        if t[1] == '?':\n",
    "            if t[0] == '2': t[1] = '3'\n",
    "            else: t[1] = '9'\n",
    "        if t[3] == '?':\n",
    "            t[3] = '5'\n",
    "        if t[4]  == '?':\n",
    "            t[4] = '9'\n",
    "            \n",
    "        return ''.join(t)\n"
   ]
  },
  {
   "cell_type": "markdown",
   "metadata": {},
   "source": [
    "# 1668. Maximum Repeating Substring"
   ]
  },
  {
   "cell_type": "code",
   "execution_count": null,
   "metadata": {},
   "outputs": [],
   "source": [
    "class Solution:\n",
    "    def maxRepeating(self, sequence: str, word: str) -> int:\n",
    "        # Do not know why this does not work for 1 result\n",
    "        #k = len(word)\n",
    "        #win = []*k\n",
    "        #i, count = 0, 0\n",
    "        #while i < len(sequence)-k+1:\n",
    "        #    win = sequence[i:i+k]\n",
    "        #    if win == word:\n",
    "        #        count += 1\n",
    "        #        i += k\n",
    "        #    else: \n",
    "        #        i += 1            \n",
    "        #return count\n",
    "        \n",
    "        count = 1\n",
    "        while word*count in sequence:\n",
    "            count += 1\n",
    "        return count - 1"
   ]
  }
 ],
 "metadata": {
  "kernelspec": {
   "display_name": "Python 3",
   "language": "python",
   "name": "python3"
  },
  "language_info": {
   "codemirror_mode": {
    "name": "ipython",
    "version": 3
   },
   "file_extension": ".py",
   "mimetype": "text/x-python",
   "name": "python",
   "nbconvert_exporter": "python",
   "pygments_lexer": "ipython3",
   "version": "3.8.3"
  }
 },
 "nbformat": 4,
 "nbformat_minor": 4
}
