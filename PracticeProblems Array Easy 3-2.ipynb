{
 "cells": [
  {
   "cell_type": "markdown",
   "metadata": {},
   "source": [
    "# 1089. Duplicate Zeros"
   ]
  },
  {
   "cell_type": "code",
   "execution_count": null,
   "metadata": {},
   "outputs": [],
   "source": [
    "class Solution:\n",
    "    def duplicateZeros(self, arr: List[int]) -> None:\n",
    "        \"\"\"\n",
    "        Do not return anything, modify arr in-place instead.\n",
    "        \"\"\"\n",
    "        i = 0\n",
    "        while i < len(arr):\n",
    "            if arr[i] == 0 and i != len(arr)-1:\n",
    "                arr[i+2:] = arr[i+1:len(arr)-1]\n",
    "                arr[i+1] = 0\n",
    "                i += 2\n",
    "            else:\n",
    "                i += 1"
   ]
  },
  {
   "cell_type": "markdown",
   "metadata": {},
   "source": [
    "# 1013. Partition Array Into Three Parts With Equal Sum"
   ]
  },
  {
   "cell_type": "code",
   "execution_count": null,
   "metadata": {},
   "outputs": [],
   "source": [
    "class Solution:\n",
    "    def canThreePartsEqualSum(self, arr: List[int]) -> bool:\n",
    "        # Solution 1 time limit exceeded\n",
    "        #target, rem, left, right = sum(arr) // 3, sum(arr) % 3, 1, len(arr)-2\n",
    "        #lsum, rsum = arr[0], arr[-1]\n",
    "        \n",
    "        #while left <= right:\n",
    "        #    if left < right and lsum != target:\n",
    "        #        lsum += arr[left]\n",
    "        #        left += 1\n",
    "        #    if left < right and rsum != target:\n",
    "        #        rsum += arr[right]\n",
    "        #        right -= 1\n",
    "        #    if lsum == target == rsum and rem == 0:\n",
    "        ##       return True\n",
    "        #    if left == right:\n",
    "        #        break\n",
    "                \n",
    "        #return False\n",
    "                \n",
    "        average, remainder, part, cnt = sum(arr) // 3, sum(arr) % 3, 0, 0\n",
    "        for a in arr:\n",
    "            part += a\n",
    "            if part == average:\n",
    "                cnt += 1\n",
    "                part = 0\n",
    "        return not remainder and cnt >= 3  \n"
   ]
  },
  {
   "cell_type": "markdown",
   "metadata": {},
   "source": [
    "# 1018. Binary Prefix Divisible By 5"
   ]
  },
  {
   "cell_type": "code",
   "execution_count": null,
   "metadata": {},
   "outputs": [],
   "source": [
    "class Solution:\n",
    "    def prefixesDivBy5(self, A: List[int]) -> List[bool]:\n",
    "        \n",
    "        for i in range(1,len(A)):\n",
    "            A[i] += A[i-1]*2 % 5\n",
    "            \n",
    "        return [a % 5 == 0 for a in A]\n",
    "            \n",
    "            \n",
    "        "
   ]
  },
  {
   "cell_type": "markdown",
   "metadata": {},
   "source": [
    "# 724. Find Pivot Index"
   ]
  },
  {
   "cell_type": "code",
   "execution_count": null,
   "metadata": {},
   "outputs": [],
   "source": [
    "class Solution:\n",
    "    def pivotIndex(self, nums: List[int]) -> int:\n",
    "        # Solution 1\n",
    "        #if len(nums) == 1: return 0\n",
    "        #if sum(nums[1:]) == 0: return 0       \n",
    "        #for i in range(1,len(nums)-1):\n",
    "        #    lsum = sum(nums[:i])\n",
    "        #    if 2*lsum == sum(nums)-nums[i]:\n",
    "        #        return i\n",
    "        #if sum(nums[:len(nums)-1]) == 0: return len(nums)-1 \n",
    "        #return -1\n",
    "        \n",
    "        left, right = 0, sum(nums)\n",
    "        for i, num in enumerate(nums):\n",
    "            right -= num\n",
    "            if right == left:\n",
    "                return i\n",
    "            left += num\n",
    "        return -1"
   ]
  },
  {
   "cell_type": "markdown",
   "metadata": {},
   "source": [
    "# 674. Longest Continuous Increasing Subsequence"
   ]
  },
  {
   "cell_type": "code",
   "execution_count": null,
   "metadata": {},
   "outputs": [],
   "source": [
    "class Solution:\n",
    "    def findLengthOfLCIS(self, nums: List[int]) -> int:\n",
    "        if not nums: return 0\n",
    "        max_sub, l, r = 1, 0, 0\n",
    "        \n",
    "        for i in range(1,len(nums)):\n",
    "            if nums[i] > nums[i-1]:\n",
    "                r = i\n",
    "            else:\n",
    "                l = i\n",
    "            max_sub = max(max_sub, r-l+1)\n",
    "\n",
    "        return max_sub\n",
    "            \n",
    "        "
   ]
  },
  {
   "cell_type": "markdown",
   "metadata": {},
   "source": [
    "# 747. Largest Number At Least Twice of Others"
   ]
  },
  {
   "cell_type": "code",
   "execution_count": null,
   "metadata": {},
   "outputs": [],
   "source": [
    "class Solution:\n",
    "    def dominantIndex(self, nums: List[int]) -> int:\n",
    "        if len(nums) < 2: return 0\n",
    "        snums = sorted(nums, reverse=True)\n",
    "        if snums[0] >= 2*snums[1]:\n",
    "            return nums.index(max(nums))\n",
    "        else:\n",
    "            return -1\n",
    "        "
   ]
  },
  {
   "cell_type": "markdown",
   "metadata": {},
   "source": [
    "# 35. Search Insert Position"
   ]
  },
  {
   "cell_type": "code",
   "execution_count": null,
   "metadata": {},
   "outputs": [],
   "source": [
    "class Solution:\n",
    "    def searchInsert(self, nums: List[int], target: int) -> int:\n",
    "        l, r = 0, len(nums)-1\n",
    "        while l <= r:\n",
    "            mid = (l+r)//2\n",
    "            if nums[mid] < target:\n",
    "                l += 1\n",
    "            else:\n",
    "                if nums[mid] == target and nums[mid-1] != nums[mid]:\n",
    "                    return mid\n",
    "                else:\n",
    "                    r -= 1\n",
    "        return l"
   ]
  },
  {
   "cell_type": "markdown",
   "metadata": {},
   "source": [
    "# 1232. Check If It Is a Straight Line"
   ]
  },
  {
   "cell_type": "code",
   "execution_count": null,
   "metadata": {},
   "outputs": [],
   "source": [
    "class Solution:\n",
    "    def checkStraightLine(self, coordinates: List[List[int]]) -> bool:\n",
    "        if len(coordinates) == 2: return True\n",
    "        x1, dx = coordinates[1][0], coordinates[1][0]-coordinates[0][0]\n",
    "        y1, dy = coordinates[1][1], coordinates[1][1]-coordinates[0][1]\n",
    "        \n",
    "        for i in range(2,len(coordinates)):\n",
    "            x, y = coordinates[i][0], coordinates[i][1]\n",
    "            if dx*(y-y1) != dy*(x-x1): return False\n",
    "        return True\n",
    "            "
   ]
  },
  {
   "cell_type": "markdown",
   "metadata": {},
   "source": [
    "# 228. Summary Ranges"
   ]
  },
  {
   "cell_type": "code",
   "execution_count": null,
   "metadata": {},
   "outputs": [],
   "source": [
    "class Solution:\n",
    "    def summaryRanges(self, nums: List[int]) -> List[str]:\n",
    "        res = []\n",
    "        if not nums:\n",
    "            return nums\n",
    "        elif len(nums) == 1:\n",
    "            # simple str(num[0]) shows error for [-1]\n",
    "            return [''.join(str(nums[0]))]\n",
    "        \n",
    "        for num in nums:\n",
    "            if not res or num > res[-1][-1]+1:\n",
    "                res.append([])\n",
    "            res[-1][1:] = [num]\n",
    "            print(num,res)\n",
    "            \n",
    "        return [\"->\".join(map(str,r)) for r in res]"
   ]
  },
  {
   "cell_type": "markdown",
   "metadata": {},
   "source": [
    "# 1566. Detect Pattern of Length M Repeated K or More Times"
   ]
  },
  {
   "cell_type": "code",
   "execution_count": null,
   "metadata": {},
   "outputs": [],
   "source": [
    "class Solution:\n",
    "    def containsPattern(self, arr: List[int], m: int, k: int) -> bool:\n",
    "        count = 0\n",
    "        for i in range(len(arr)-m):\n",
    "            if arr[i] != arr[i+m]:\n",
    "                count = 0\n",
    "            else:\n",
    "                count += 1\n",
    "            if count == m*(k-1):\n",
    "                return True\n",
    "        return False"
   ]
  },
  {
   "cell_type": "markdown",
   "metadata": {},
   "source": [
    "# 643. Maximum Average Subarray I"
   ]
  },
  {
   "cell_type": "code",
   "execution_count": null,
   "metadata": {},
   "outputs": [],
   "source": [
    "class Solution:\n",
    "    def findMaxAverage(self, nums: List[int], k: int) -> float:\n",
    "        # Did not work for single element list\n",
    "        #if not nums or len(nums) == 1:\n",
    "        #    return nums        \n",
    "        #avg = []\n",
    "        #for i in range(len(nums)-k) :\n",
    "        #    tmp = nums[i:i+k]\n",
    "        #    avg.append(sum(tmp)/k)            \n",
    "        #return max(avg)\n",
    "        \n",
    "        s, res = 0, float(-inf)\n",
    "        \n",
    "        for i in range(len(nums)):\n",
    "            if i < k:\n",
    "                s += nums[i]\n",
    "            else:\n",
    "                res = max(res,s)\n",
    "                s = s + nums[i] - nums[i-k]\n",
    "                \n",
    "        res = max(res,s)\n",
    "        return res/k"
   ]
  },
  {
   "cell_type": "markdown",
   "metadata": {},
   "source": [
    "# 914. X of a Kind in a Deck of Cards"
   ]
  },
  {
   "cell_type": "code",
   "execution_count": null,
   "metadata": {},
   "outputs": [],
   "source": [
    "class Solution:\n",
    "    def hasGroupsSizeX(self, deck: List[int]) -> bool:\n",
    "        count = collections.Counter(deck).values()        \n",
    "        return reduce(math.gcd, count) > 1        \n",
    "        # return reduce(math.gcd, collections.Counter(deck).values()) > 1"
   ]
  }
 ],
 "metadata": {
  "kernelspec": {
   "display_name": "Python 3",
   "language": "python",
   "name": "python3"
  },
  "language_info": {
   "codemirror_mode": {
    "name": "ipython",
    "version": 3
   },
   "file_extension": ".py",
   "mimetype": "text/x-python",
   "name": "python",
   "nbconvert_exporter": "python",
   "pygments_lexer": "ipython3",
   "version": "3.8.3"
  }
 },
 "nbformat": 4,
 "nbformat_minor": 4
}
