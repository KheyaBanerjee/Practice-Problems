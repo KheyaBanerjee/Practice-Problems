{
 "cells": [
  {
   "cell_type": "markdown",
   "metadata": {},
   "source": [
    "# 1046. Last Stone Weight"
   ]
  },
  {
   "cell_type": "code",
   "execution_count": null,
   "metadata": {},
   "outputs": [],
   "source": [
    "class Solution:\n",
    "    def lastStoneWeight(self, stones: List[int]) -> int:\n",
    "        stones = sorted(stones)\n",
    "        while len(stones) > 1:\n",
    "            x = stones.pop()\n",
    "            y = stones.pop()\n",
    "            if x != y:\n",
    "                stones.append(x-y)\n",
    "                stones = sorted(stones)\n",
    "            \n",
    "        if stones:\n",
    "            return stones[0]\n",
    "        else:\n",
    "            return 0"
   ]
  },
  {
   "cell_type": "markdown",
   "metadata": {},
   "source": [
    "# 506. Relative Ranks"
   ]
  },
  {
   "cell_type": "code",
   "execution_count": null,
   "metadata": {},
   "outputs": [],
   "source": [
    "class Solution:\n",
    "    def findRelativeRanks(self, score: List[int]) -> List[str]:\n",
    "        # Same logic, smaller code\n",
    "        #res = [-1]*len(score)\n",
    "        #lst = sorted(score, reverse=True)\n",
    "        #dic = {}\n",
    "        #for i, x in enumerate(lst):\n",
    "        #    if i == 0:\n",
    "        #        dic[x] = \"Gold Medal\"\n",
    "        #    elif i == 1:\n",
    "        #        dic[x] = \"Silver Medal\"\n",
    "        #    elif i == 2:\n",
    "        #        dic[x] = \"Bronze Medal\"\n",
    "        #    else:\n",
    "        #        dic[x] = str(i+1) \n",
    "        #res = [dic[e] for e in score]\n",
    "        #return res\n",
    "        \n",
    "        lst = {x:i for i,x in enumerate(sorted(score, reverse=True))}\n",
    "        medals = [\"Gold Medal\", \"Silver Medal\", \"Bronze Medal\"]\n",
    "        return [(str(lst[n]+1) if lst[n] >= len(medals) else medals[lst[n]]) for n in score]"
   ]
  },
  {
   "cell_type": "markdown",
   "metadata": {},
   "source": [
    "# 2099. Find Subsequence of Length K With the Largest Sum"
   ]
  },
  {
   "cell_type": "code",
   "execution_count": null,
   "metadata": {},
   "outputs": [],
   "source": [
    "class Solution:\n",
    "    def maxSubsequence(self, nums: List[int], k: int) -> List[int]:\n",
    "        lst = sorted(nums, reverse=True)[:k]\n",
    "        res = []\n",
    "        for num in nums:\n",
    "            if num in lst:\n",
    "                res.append(num)\n",
    "                lst.remove(num)\n",
    "                if len(lst) == 0:\n",
    "                    return res"
   ]
  },
  {
   "cell_type": "markdown",
   "metadata": {},
   "source": [
    "# 2073. Time Needed to Buy Tickets"
   ]
  },
  {
   "cell_type": "code",
   "execution_count": null,
   "metadata": {},
   "outputs": [],
   "source": [
    "class Solution:\n",
    "    def timeRequiredToBuy(self, tickets: List[int], k: int) -> int:\n",
    "        # Smaller one pass solution\n",
    "        #res = 0\n",
    "        #while True:\n",
    "        #    for i in range(len(tickets)):\n",
    "        #        if tickets[i] == 0:\n",
    "        #            continue\n",
    "        #        tickets[i] -= 1\n",
    "        #        res += 1\n",
    "        #        if tickets[k] == 0:\n",
    "        #            return res\n",
    "        \n",
    "        res = 0\n",
    "        for i in range(len(tickets)):\n",
    "            if i <= k:\n",
    "                res += min(tickets[i], tickets[k])\n",
    "            else:\n",
    "                res += min(tickets[i], tickets[k]-1)\n",
    "        return res\n",
    "            "
   ]
  },
  {
   "cell_type": "code",
   "execution_count": null,
   "metadata": {},
   "outputs": [],
   "source": []
  },
  {
   "cell_type": "code",
   "execution_count": null,
   "metadata": {},
   "outputs": [],
   "source": []
  }
 ],
 "metadata": {
  "kernelspec": {
   "display_name": "Python 3",
   "language": "python",
   "name": "python3"
  },
  "language_info": {
   "codemirror_mode": {
    "name": "ipython",
    "version": 3
   },
   "file_extension": ".py",
   "mimetype": "text/x-python",
   "name": "python",
   "nbconvert_exporter": "python",
   "pygments_lexer": "ipython3",
   "version": "3.8.3"
  }
 },
 "nbformat": 4,
 "nbformat_minor": 4
}
