{
 "cells": [
  {
   "cell_type": "markdown",
   "metadata": {},
   "source": [
    "# 1816. Truncate Sentence"
   ]
  },
  {
   "cell_type": "code",
   "execution_count": null,
   "metadata": {},
   "outputs": [],
   "source": [
    "class Solution:\n",
    "    def truncateSentence(self, s: str, k: int) -> str:\n",
    "        return ' '.join(s.split()[0:k])\n",
    "    \n",
    "        # without built-in    \n",
    "        #cnt = 0\n",
    "        #for i,c in enumerate(s):\n",
    "        #    if c == ' ' or i == len(s)-1:\n",
    "        #        cnt += 1\n",
    "        #        if cnt == k:\n",
    "        #            if i == len(s)-1:\n",
    "        #                return s\n",
    "        #            else:\n",
    "        #                return s[:i]"
   ]
  },
  {
   "cell_type": "markdown",
   "metadata": {},
   "source": [
    "# 804. Unique Morse Code Words"
   ]
  },
  {
   "cell_type": "code",
   "execution_count": null,
   "metadata": {},
   "outputs": [],
   "source": [
    "class Solution:\n",
    "    def uniqueMorseRepresentations(self, words: List[str]) -> int:\n",
    "        #code = [\".-\",\"-...\",\"-.-.\",\"-..\",\".\",\"..-.\",\"--.\",\"....\",\"..\",\".---\",\"-.-\",\".-..\",\"--\",\"-.\",\"---\",\".--.\",\"--.-\",\".-.\",\"...\",\"-\",\"..-\",\"...-\",\".--\",\"-..-\",\"-.--\",\"--..\"]\n",
    "        #res = []        \n",
    "        #for word in words:\n",
    "        #    tmp = ''\n",
    "        #    for c in word:\n",
    "        #        idx = ascii_lowercase.index(c)\n",
    "        #        tmp += code[idx]\n",
    "        #        # This line slows down the code\n",
    "        #        #tmp += code[ord(c)-ord('a')]\n",
    "        #    res.append(tmp)\n",
    "        #return len(set(res))\n",
    "        \n",
    "        # Not faster than previous code\n",
    "        code = [\".-\",\"-...\",\"-.-.\",\"-..\",\".\",\"..-.\",\"--.\",\"....\",\"..\",\".---\",\"-.-\",\".-..\",\"--\",\"-.\",\"---\",\".--.\",\"--.-\",\".-.\",\"...\",\"-\",\"..-\",\"...-\",\".--\",\"-..-\",\"-.--\",\"--..\"]\n",
    "        return len({''.join(code[ord(c)-ord('a')] for c in word) for word in words})\n",
    "        "
   ]
  },
  {
   "cell_type": "markdown",
   "metadata": {},
   "source": [
    "# 1704. Determine if String Halves Are Alike"
   ]
  },
  {
   "cell_type": "code",
   "execution_count": null,
   "metadata": {},
   "outputs": [],
   "source": [
    "class Solution:\n",
    "    def halvesAreAlike(self, s: str) -> bool:\n",
    "        # It is better to use 2 pointers than 1\n",
    "        #vowels = ['a','e','i','o','u','A','E','I','O','U']\n",
    "        #a = b = 0\n",
    "        #for i in range(len(s)):\n",
    "        #    tmp = int(s[i] in vowels)\n",
    "        #    if (i < int(len(s)/2)):\n",
    "        #        a = a + tmp\n",
    "        #    else:\n",
    "        #        b = b + tmp\n",
    "        #return a == b\n",
    "        \n",
    "        vowels = set('aeiouAEIOU')\n",
    "        a, b, i, j = 0, 0, 0, len(s)-1\n",
    "        while i < j:\n",
    "            a += s[i] in vowels\n",
    "            b += s[j] in vowels\n",
    "            i += 1\n",
    "            j -= 1\n",
    "        return a == b"
   ]
  },
  {
   "cell_type": "markdown",
   "metadata": {},
   "source": [
    "# 1812. Determine Color of a Chessboard Square"
   ]
  },
  {
   "cell_type": "code",
   "execution_count": null,
   "metadata": {},
   "outputs": [],
   "source": [
    "class Solution:\n",
    "    def squareIsWhite(self, coordinates: str) -> bool:\n",
    "        let = list('abcdefgh')\n",
    "        #if let.index(coordinates[0]) % 2 == 0:            \n",
    "        #    return int(coordinates[1]) % 2 == 0\n",
    "        #else:\n",
    "        #    return int(coordinates[1]) % 2 == 1\n",
    "        return int(coordinates[1]) % 2 == 0 if let.index(coordinates[0]) % 2 == 0 else int(coordinates[1]) % 2 == 1\n",
    "    \n",
    "        # Clever sol\n",
    "        #return ord(coordinates[0]) % 2 != int(coordinates[1]) % 2"
   ]
  },
  {
   "cell_type": "markdown",
   "metadata": {},
   "source": [
    "# 1309. Decrypt String from Alphabet to Integer Mapping"
   ]
  },
  {
   "cell_type": "code",
   "execution_count": null,
   "metadata": {},
   "outputs": [],
   "source": [
    "class Solution:\n",
    "    def freqAlphabets(self, s: str) -> str:\n",
    "        j = len(s)-1\n",
    "        res = ''\n",
    "        while j >= 0:\n",
    "            if s[j] == '#':\n",
    "                res += ascii_lowercase[int(s[j-2:j])-1]\n",
    "                j -= 3\n",
    "            else:\n",
    "                res += ascii_lowercase[int(s[j])-1]\n",
    "                j -= 1\n",
    "        return res[::-1]"
   ]
  },
  {
   "cell_type": "markdown",
   "metadata": {},
   "source": [
    "# 1436. Destination City"
   ]
  },
  {
   "cell_type": "code",
   "execution_count": null,
   "metadata": {},
   "outputs": [],
   "source": [
    "class Solution:\n",
    "    def destCity(self, paths: List[List[str]]) -> str:\n",
    "        # Same logic, but more pythonic, this is more faster\n",
    "        #cityA, cityB = [], []\n",
    "        #for path in paths:\n",
    "        #    cityA.append(path[0])\n",
    "        #    cityB.append(path[1])\n",
    "        #return list(set(cityB).difference(set(cityA)))[0]\n",
    "        \n",
    "        cityA, cityB = map(set,zip(*paths))\n",
    "        return (cityB-cityA).pop()"
   ]
  },
  {
   "cell_type": "markdown",
   "metadata": {},
   "source": [
    "# 1768. Merge Strings Alternately"
   ]
  },
  {
   "cell_type": "code",
   "execution_count": null,
   "metadata": {},
   "outputs": [],
   "source": [
    "class Solution:\n",
    "    def mergeAlternately(self, word1: str, word2: str) -> str:\n",
    "        # Shorter code\n",
    "        #res = []\n",
    "        #if (len(word1) > len(word2)):\n",
    "        #    length = len(word1)\n",
    "        #else:\n",
    "        #    length = len(word2)\n",
    "        #for i in range(length):\n",
    "        #    if (i < len(word1)):\n",
    "        #        res.append(word1[i])\n",
    "        #    if (i < len(word2)):\n",
    "        #        res.append(word2[i])\n",
    "        #return ''.join(res)\n",
    "        \n",
    "        length = len(max([word1,word2], key=len))\n",
    "        word1, word2 = list(word1), list(word2)\n",
    "        res = ''\n",
    "        for i in range(length):\n",
    "            if word1:\n",
    "                res += str(word1.pop(0)) \n",
    "            if word2:\n",
    "                res += str(word2.pop(0)) \n",
    "        return res\n",
    "    \n",
    "        # Python one liner\n",
    "        #return ''.join(a + b for a, b in zip_longest(word1, word2, fillvalue=''))"
   ]
  },
  {
   "cell_type": "markdown",
   "metadata": {},
   "source": [
    "# 657. Robot Return to Origin"
   ]
  },
  {
   "cell_type": "code",
   "execution_count": null,
   "metadata": {},
   "outputs": [],
   "source": [
    "class Solution:\n",
    "    def judgeCircle(self, moves: str) -> bool:\n",
    "        # 1 liner, and it is more efficient\n",
    "        #x0, y0, xn, yn = 0, 0, 0, 0\n",
    "        #for c in moves:\n",
    "        #    if c == 'U': yn += 1 \n",
    "        #    elif c == 'D': yn -= 1\n",
    "        #    elif c == 'R': xn += 1\n",
    "        #    else: xn -= 1\n",
    "        #return x0 == xn and y0 == yn\n",
    "        \n",
    "        return moves.count('L') == moves.count('R') and moves.count('U') == moves.count('D')"
   ]
  },
  {
   "cell_type": "markdown",
   "metadata": {},
   "source": [
    "# 557. Reverse Words in a String III"
   ]
  },
  {
   "cell_type": "code",
   "execution_count": null,
   "metadata": {},
   "outputs": [],
   "source": [
    "class Solution:\n",
    "    def reverseWords(self, s: str) -> str:\n",
    "        # Shorter code with split\n",
    "        #words = s.split()\n",
    "        #res = ''\n",
    "        #for i, word in enumerate(words):\n",
    "        #    if i < len(words)-1:\n",
    "        #        res += word[::-1] + ' '\n",
    "        #    else:\n",
    "        #        res += word[::-1]\n",
    "        #return res\n",
    "        \n",
    "        return ' '.join(w[::-1] for w in s.split())"
   ]
  },
  {
   "cell_type": "markdown",
   "metadata": {},
   "source": [
    "# 344. Reverse String"
   ]
  },
  {
   "cell_type": "code",
   "execution_count": null,
   "metadata": {},
   "outputs": [],
   "source": [
    "class Solution:\n",
    "    def reverseString(self, s: List[str]) -> None:\n",
    "        \"\"\"\n",
    "        Do not return anything, modify s in-place instead.\n",
    "        \"\"\"\n",
    "        #s[:] = s[::-1]\n",
    "        s.reverse()"
   ]
  }
 ],
 "metadata": {
  "kernelspec": {
   "display_name": "Python 3",
   "language": "python",
   "name": "python3"
  },
  "language_info": {
   "codemirror_mode": {
    "name": "ipython",
    "version": 3
   },
   "file_extension": ".py",
   "mimetype": "text/x-python",
   "name": "python",
   "nbconvert_exporter": "python",
   "pygments_lexer": "ipython3",
   "version": "3.8.3"
  }
 },
 "nbformat": 4,
 "nbformat_minor": 4
}
