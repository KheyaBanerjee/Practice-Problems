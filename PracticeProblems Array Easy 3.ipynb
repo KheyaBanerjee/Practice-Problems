{
 "cells": [
  {
   "cell_type": "markdown",
   "metadata": {},
   "source": [
    "# 605. Can Place Flowers"
   ]
  },
  {
   "cell_type": "code",
   "execution_count": null,
   "metadata": {},
   "outputs": [],
   "source": [
    "class Solution:\n",
    "    def canPlaceFlowers(self, flowerbed: List[int], n: int) -> bool:\n",
    "        count = 0\n",
    "        for i in range(len(flowerbed)):\n",
    "            if flowerbed[i] == 0:\n",
    "                if i == 0:\n",
    "                    prev = 0\n",
    "                else:\n",
    "                    prev = flowerbed[i-1]\n",
    "                if i == len(flowerbed)-1:\n",
    "                    nxt = 0\n",
    "                else:\n",
    "                    nxt = flowerbed[i+1]\n",
    "                if prev == 0 and nxt == 0:\n",
    "                    flowerbed[i] = 1\n",
    "                    count += 1\n",
    "        return count >= n\n",
    "            \n",
    "        "
   ]
  },
  {
   "cell_type": "markdown",
   "metadata": {},
   "source": [
    "# 941. Valid Mountain Array"
   ]
  },
  {
   "cell_type": "code",
   "execution_count": null,
   "metadata": {},
   "outputs": [],
   "source": [
    "class Solution:\n",
    "    def validMountainArray(self, arr: List[int]) -> bool:\n",
    "        i = 0\n",
    "        j = len(arr)-1\n",
    "        n = len(arr)\n",
    "        \n",
    "        while i < n-1 and arr[i+1] > arr[i]:\n",
    "            i += 1\n",
    "        while j >= 0 and arr[j-1] > arr[j]:\n",
    "            j -= 1\n",
    "        return 0 < i == j < n-1"
   ]
  },
  {
   "cell_type": "markdown",
   "metadata": {},
   "source": [
    "# 1346. Check If N and Its Double Exist"
   ]
  },
  {
   "cell_type": "code",
   "execution_count": null,
   "metadata": {},
   "outputs": [],
   "source": [
    "class Solution:\n",
    "    def checkIfExist(self, arr: List[int]) -> bool:\n",
    "        arr.sort()\n",
    "        \n",
    "        d = arr.pop(0)\n",
    "        while len(arr) > 0:\n",
    "            if (d >= 0 and 2*d in arr) or (d < 0 and d/2 in arr):\n",
    "                print(d)\n",
    "                return True\n",
    "            else:\n",
    "                d = arr.pop(0)\n",
    "        return False\n",
    "        "
   ]
  },
  {
   "cell_type": "markdown",
   "metadata": {},
   "source": [
    "# 88. Merge Sorted Array"
   ]
  },
  {
   "cell_type": "code",
   "execution_count": null,
   "metadata": {},
   "outputs": [],
   "source": [
    "class Solution:\n",
    "    def merge(self, nums1: List[int], m: int, nums2: List[int], n: int) -> None:\n",
    "        \"\"\"\n",
    "        Do not return anything, modify nums1 in-place instead.\n",
    "        \"\"\"\n",
    "        nums1[m:] = nums2[:]\n",
    "        nums1.sort()"
   ]
  },
  {
   "cell_type": "markdown",
   "metadata": {},
   "source": [
    "# 628. Maximum Product of Three Numbers"
   ]
  },
  {
   "cell_type": "code",
   "execution_count": null,
   "metadata": {},
   "outputs": [],
   "source": [
    "class Solution:\n",
    "    def maximumProduct(self, nums: List[int]) -> int:\n",
    "        nums.sort()\n",
    "        return max(nums[-1]*nums[-2]*nums[-3], nums[-1]*nums[0]*nums[1])"
   ]
  },
  {
   "cell_type": "markdown",
   "metadata": {},
   "source": [
    "# 989. Add to Array-Form of Integer"
   ]
  },
  {
   "cell_type": "code",
   "execution_count": null,
   "metadata": {},
   "outputs": [],
   "source": [
    "class Solution:\n",
    "    def addToArrayForm(self, num: List[int], k: int) -> List[int]:\n",
    "        numsum = 0\n",
    "        for i in range(len(num)):\n",
    "            numsum += num[i]*(10**(len(num)-i-1))\n",
    "        \n",
    "        return [int(s) for s in str(numsum + k)]\n",
    "        "
   ]
  },
  {
   "cell_type": "markdown",
   "metadata": {},
   "source": [
    "# 121. Best Time to Buy and Sell Stock"
   ]
  },
  {
   "cell_type": "code",
   "execution_count": null,
   "metadata": {},
   "outputs": [],
   "source": [
    "class Solution:\n",
    "    def maxProfit(self, prices: List[int]) -> int:\n",
    "        max_profit, min_price = 0, float('inf')\n",
    "        for num in prices:\n",
    "            min_price = min(min_price,num)\n",
    "            profit = num - min_price\n",
    "            max_profit = max(profit,max_profit)\n",
    "        return max_profit"
   ]
  },
  {
   "cell_type": "markdown",
   "metadata": {},
   "source": [
    "# 746. Min Cost Climbing Stairs"
   ]
  },
  {
   "cell_type": "code",
   "execution_count": null,
   "metadata": {},
   "outputs": [],
   "source": [
    "class Solution:\n",
    "    def minCostClimbingStairs(self, cost: List[int]) -> int:\n",
    "        if not cost: return 0\n",
    "        \n",
    "        dp = [0]*len(cost)\n",
    "        dp[0] = cost[0]\n",
    "        if len(cost) >= 2: dp[1] = cost[1]\n",
    "        for i in range(2,len(cost)):\n",
    "            dp[i] = cost[i] + min(dp[i-1],dp[i-2])\n",
    "        \n",
    "        return min(dp[-1],dp[-2])"
   ]
  },
  {
   "cell_type": "markdown",
   "metadata": {},
   "source": [
    "# 830. Positions of Large Groups"
   ]
  },
  {
   "cell_type": "code",
   "execution_count": null,
   "metadata": {},
   "outputs": [],
   "source": [
    "class Solution:\n",
    "    def largeGroupPositions(self, s: str) -> List[List[int]]:\n",
    "        res = []\n",
    "        start, end = 0, 0\n",
    "        \n",
    "        while start < len(s):\n",
    "            while end < len(s) and s[end] == s[start]:\n",
    "                end += 1\n",
    "            if end-start >= 3:\n",
    "                res.append([start,end-1])\n",
    "            start = end\n",
    "        return res\n",
    "        \n"
   ]
  },
  {
   "cell_type": "markdown",
   "metadata": {},
   "source": [
    "# 53. Maximum Subarray"
   ]
  },
  {
   "cell_type": "code",
   "execution_count": null,
   "metadata": {},
   "outputs": [],
   "source": [
    "class Solution:\n",
    "    def maxSubArray(self, nums: List[int]) -> int:\n",
    "        for i in range(1,len(nums)):\n",
    "            if nums[i-1] > 0:\n",
    "                nums[i] += nums[i-1]\n",
    "        return max(nums)"
   ]
  }
 ],
 "metadata": {
  "kernelspec": {
   "display_name": "Python 3",
   "language": "python",
   "name": "python3"
  },
  "language_info": {
   "codemirror_mode": {
    "name": "ipython",
    "version": 3
   },
   "file_extension": ".py",
   "mimetype": "text/x-python",
   "name": "python",
   "nbconvert_exporter": "python",
   "pygments_lexer": "ipython3",
   "version": "3.8.3"
  }
 },
 "nbformat": 4,
 "nbformat_minor": 4
}
