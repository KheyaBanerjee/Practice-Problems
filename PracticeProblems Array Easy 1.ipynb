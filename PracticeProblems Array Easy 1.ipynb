{
 "cells": [
  {
   "cell_type": "markdown",
   "metadata": {},
   "source": [
    "# 1773. Count Items Matching a Rule"
   ]
  },
  {
   "cell_type": "code",
   "execution_count": null,
   "metadata": {},
   "outputs": [],
   "source": [
    "class Solution:\n",
    "    def countMatches(self, items: List[List[str]], ruleKey: str, ruleValue: str) -> int:\n",
    "        idx = ['type','color','name']\n",
    "        pos = idx.index(ruleKey)\n",
    "        count = 0\n",
    "        for i in range(len(items)):\n",
    "            if ruleValue == items[i][pos]:\n",
    "                count = count + 1\n",
    "        return count"
   ]
  },
  {
   "cell_type": "markdown",
   "metadata": {},
   "source": [
    "# 1486. XOR Operation in an Array"
   ]
  },
  {
   "cell_type": "code",
   "execution_count": null,
   "metadata": {},
   "outputs": [],
   "source": [
    "class Solution:\n",
    "    def xorOperation(self, n: int, start: int) -> int:\n",
    "        \n",
    "        res = start\n",
    "        for i in range(1,n):\n",
    "            new = start+2*i\n",
    "            res = res^new\n",
    "        return res"
   ]
  },
  {
   "cell_type": "markdown",
   "metadata": {},
   "source": [
    "# 832. Flipping an Image"
   ]
  },
  {
   "cell_type": "code",
   "execution_count": null,
   "metadata": {},
   "outputs": [],
   "source": [
    "class Solution:\n",
    "    def flipAndInvertImage(self, A: List[List[int]]) -> List[List[int]]:\n",
    "        res = [[1-j for j in x[::-1]] for x in A]\n",
    "        \n",
    "        return res"
   ]
  },
  {
   "cell_type": "markdown",
   "metadata": {},
   "source": [
    "# 1299. Replace Elements with Greatest Element on Right Side"
   ]
  },
  {
   "cell_type": "code",
   "execution_count": null,
   "metadata": {},
   "outputs": [],
   "source": [
    "class Solution:\n",
    "    def replaceElements(self, arr: List[int]) -> List[int]:\n",
    "        res = []\n",
    "        for i in range(len(arr)-1):\n",
    "            res.append(max(arr[i+1:]))\n",
    "        res.append(-1)\n",
    "        return res"
   ]
  },
  {
   "cell_type": "markdown",
   "metadata": {},
   "source": [
    "# 561. Array Partition I"
   ]
  },
  {
   "cell_type": "code",
   "execution_count": null,
   "metadata": {},
   "outputs": [],
   "source": [
    "class Solution:\n",
    "    def arrayPairSum(self, nums: List[int]) -> int:\n",
    "        res = 0\n",
    "        nums = sorted(nums)\n",
    "        for i in range(0,len(nums),2):\n",
    "            res = res + min(nums[i],nums[i+1])\n",
    "        return res"
   ]
  },
  {
   "cell_type": "markdown",
   "metadata": {},
   "source": [
    "# 1460. Make Two Arrays Equal by Reversing Sub-array"
   ]
  },
  {
   "cell_type": "code",
   "execution_count": null,
   "metadata": {},
   "outputs": [],
   "source": [
    "class Solution:\n",
    "    def canBeEqual(self, target: List[int], arr: List[int]) -> bool:\n",
    "        \n",
    "        for i in range(len(arr)):\n",
    "            if arr[i] in target:\n",
    "                target.remove(arr[i])\n",
    "            else:\n",
    "                return False\n",
    "                break\n",
    "        return True"
   ]
  },
  {
   "cell_type": "markdown",
   "metadata": {},
   "source": [
    "# 1337. The K Weakest Rows in a Matrix"
   ]
  },
  {
   "cell_type": "code",
   "execution_count": null,
   "metadata": {},
   "outputs": [],
   "source": [
    "class Solution:\n",
    "    def kWeakestRows(self, mat: List[List[int]], k: int) -> List[int]:\n",
    "        res = []\n",
    "        tmp = []\n",
    "        for i in range(len(mat)):\n",
    "            tmp.append([sum(mat[i]),i])\n",
    "        tmp.sort()\n",
    "        for x in tmp:\n",
    "            res.append(x[1])\n",
    "        return res[:k]"
   ]
  },
  {
   "cell_type": "markdown",
   "metadata": {},
   "source": [
    "# 977. Squares of a Sorted Array"
   ]
  },
  {
   "cell_type": "code",
   "execution_count": null,
   "metadata": {},
   "outputs": [],
   "source": [
    "class Solution:\n",
    "    def sortedSquares(self, nums: List[int]) -> List[int]:\n",
    "        res = []\n",
    "        for i in range(len(nums)):\n",
    "            res.append(nums[i]*nums[i])\n",
    "        res.sort()\n",
    "        return res"
   ]
  },
  {
   "cell_type": "markdown",
   "metadata": {},
   "source": [
    "# 1502. Can Make Arithmetic Progression From Sequence"
   ]
  },
  {
   "cell_type": "code",
   "execution_count": null,
   "metadata": {},
   "outputs": [],
   "source": [
    "class Solution:\n",
    "    def canMakeArithmeticProgression(self, arr: List[int]) -> bool:\n",
    "        res = []\n",
    "        arr.sort()\n",
    "        for i in range(1,len(arr)):\n",
    "            res.append(arr[i]-arr[i-1])\n",
    "        return len(set(res)) == 1"
   ]
  },
  {
   "cell_type": "markdown",
   "metadata": {},
   "source": [
    "# 922. Sort Array By Parity II"
   ]
  },
  {
   "cell_type": "code",
   "execution_count": null,
   "metadata": {},
   "outputs": [],
   "source": [
    "class Solution:\n",
    "    def sortArrayByParityII(self, nums: List[int]) -> List[int]:\n",
    "        res = []\n",
    "        odd = []\n",
    "        even = []\n",
    "        for i in range(len(nums)):\n",
    "            if (nums[i] % 2 == 1):\n",
    "                odd.append(nums[i])\n",
    "            else:\n",
    "                even.append(nums[i])\n",
    "        for i in range(len(nums)//2):\n",
    "            res.append(even[i])\n",
    "            res.append(odd[i])\n",
    "        return res"
   ]
  },
  {
   "cell_type": "markdown",
   "metadata": {},
   "source": [
    "# 1380. Lucky Numbers in a Matrix"
   ]
  },
  {
   "cell_type": "code",
   "execution_count": null,
   "metadata": {},
   "outputs": [],
   "source": [
    "class Solution:\n",
    "    def luckyNumbers (self, matrix: List[List[int]]) -> List[int]:\n",
    "        tmpr = {min(i) for i in matrix}\n",
    "        tmpc = {max(j) for j in zip(*matrix)}\n",
    "        \n",
    "        return list(tmpr & tmpc)"
   ]
  },
  {
   "cell_type": "markdown",
   "metadata": {},
   "source": [
    "# 1491. Average Salary Excluding the Minimum and Maximum Salary"
   ]
  },
  {
   "cell_type": "code",
   "execution_count": null,
   "metadata": {},
   "outputs": [],
   "source": [
    "class Solution:\n",
    "    def average(self, salary: List[int]) -> float:\n",
    "        salary.sort()\n",
    "        return sum(salary[1:-1])/(len(salary)-2)"
   ]
  },
  {
   "cell_type": "markdown",
   "metadata": {},
   "source": [
    "# 1122. Relative Sort Array"
   ]
  },
  {
   "cell_type": "code",
   "execution_count": null,
   "metadata": {},
   "outputs": [],
   "source": [
    "class Solution:\n",
    "    def relativeSortArray(self, arr1: List[int], arr2: List[int]) -> List[int]:\n",
    "        res = []\n",
    "        end = []\n",
    "        for i in range(len(arr2)):\n",
    "            for j in range(arr1.count(arr2[i])):\n",
    "                res.append(arr2[i])\n",
    "        for i in range(len(arr1)):\n",
    "            if arr1[i] not in arr2:\n",
    "                end.append(arr1[i])\n",
    "        end.sort()\n",
    "        return res+end"
   ]
  },
  {
   "cell_type": "markdown",
   "metadata": {},
   "source": [
    "# 1700. Number of Students Unable to Eat Lunch"
   ]
  },
  {
   "cell_type": "code",
   "execution_count": null,
   "metadata": {},
   "outputs": [],
   "source": [
    "class Solution:\n",
    "    def countStudents(self, students: List[int], sandwiches: List[int]) -> int:\n",
    "        ceat = 0\n",
    "        lstd = len(students)\n",
    "        while not ((len(set(students)) == 1) and (sandwiches[0] != students[0])):\n",
    "            if (students[0] == sandwiches[0]):\n",
    "                students.pop(0)\n",
    "                sandwiches.pop(0)\n",
    "                ceat = ceat + 1\n",
    "            else:\n",
    "                top = students.pop(0)\n",
    "                students.append(top)\n",
    "            if not students or not sandwiches:\n",
    "                break\n",
    "        return lstd-ceat"
   ]
  },
  {
   "cell_type": "markdown",
   "metadata": {},
   "source": [
    "# 509. Fibonacci Number"
   ]
  },
  {
   "cell_type": "code",
   "execution_count": null,
   "metadata": {},
   "outputs": [],
   "source": [
    "class Solution:\n",
    "    def fib(self,n):\n",
    "        a, b = 0, 1\n",
    "        for i in range(n):\n",
    "            a, b = b, a+b\n",
    "        return a\n",
    "    "
   ]
  },
  {
   "cell_type": "markdown",
   "metadata": {},
   "source": [
    "# 1200. Minimum Absolute Difference"
   ]
  },
  {
   "cell_type": "code",
   "execution_count": null,
   "metadata": {},
   "outputs": [],
   "source": [
    "class Solution:\n",
    "    def minimumAbsDifference(self, arr: List[int]) -> List[List[int]]:\n",
    "        import math\n",
    "        arr.sort()\n",
    "        mindif = math.inf \n",
    "        res = []\n",
    "        for i in range(1,len(arr)):\n",
    "            if arr[i]-arr[i-1] < mindif:\n",
    "                mindif = arr[i]-arr[i-1]\n",
    "        for i in range(1,len(arr)):\n",
    "            if arr[i]-arr[i-1] == mindif:\n",
    "                res.append([arr[i-1],arr[i]])\n",
    "        return res"
   ]
  }
 ],
 "metadata": {
  "kernelspec": {
   "display_name": "Python 3",
   "language": "python",
   "name": "python3"
  },
  "language_info": {
   "codemirror_mode": {
    "name": "ipython",
    "version": 3
   },
   "file_extension": ".py",
   "mimetype": "text/x-python",
   "name": "python",
   "nbconvert_exporter": "python",
   "pygments_lexer": "ipython3",
   "version": "3.8.3"
  }
 },
 "nbformat": 4,
 "nbformat_minor": 4
}
