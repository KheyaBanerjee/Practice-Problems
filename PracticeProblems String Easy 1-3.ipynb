{
 "cells": [
  {
   "cell_type": "markdown",
   "metadata": {},
   "source": [
    "# 929. Unique Email Addresses"
   ]
  },
  {
   "cell_type": "code",
   "execution_count": null,
   "metadata": {},
   "outputs": [],
   "source": [
    "class Solution:\n",
    "    def numUniqueEmails(self, emails: List[str]) -> int:\n",
    "        # Same logic, but the code can be smaller\n",
    "        #res = []\n",
    "        #for email in emails:\n",
    "        #    idx = email.index('@')\n",
    "        #    tmp = email[:idx]\n",
    "        #    domain = email[idx:]\n",
    "        #    local = tmp.replace('.','')\n",
    "        #    for i, c in enumerate(local):\n",
    "        #        if c == '+':\n",
    "        #            local = local[:i]\n",
    "        #            break\n",
    "        #    res.append(local + domain)\n",
    "        #return len(set(res))\n",
    "        \n",
    "        res = set()\n",
    "        for email in emails:\n",
    "            tmp, domain = email.split('@')\n",
    "            local = tmp.split('+')[0].replace('.','')\n",
    "            res.add(local + '@' + domain)\n",
    "        return len(res)"
   ]
  },
  {
   "cell_type": "markdown",
   "metadata": {},
   "source": [
    "# 1455. Check If a Word Occurs As a Prefix of Any Word in a Sentence"
   ]
  },
  {
   "cell_type": "code",
   "execution_count": null,
   "metadata": {},
   "outputs": [],
   "source": [
    "class Solution:\n",
    "    def isPrefixOfWord(self, sentence: str, searchWord: str) -> int:\n",
    "        \n",
    "        for i, s in enumerate(sentence.split(' ')):\n",
    "            if s.startswith(searchWord):\n",
    "                return i+1\n",
    "        return -1"
   ]
  },
  {
   "cell_type": "markdown",
   "metadata": {},
   "source": [
    "# 1408. String Matching in an Array"
   ]
  },
  {
   "cell_type": "code",
   "execution_count": null,
   "metadata": {},
   "outputs": [],
   "source": [
    "class Solution:\n",
    "    def stringMatching(self, words: List[str]) -> List[str]:\n",
    "        tmp = ' '.join(words)\n",
    "        substr = [i for i in words if tmp.count(i) >= 2]\n",
    "        return substr"
   ]
  },
  {
   "cell_type": "markdown",
   "metadata": {},
   "source": [
    "# 1189. Maximum Number of Balloons"
   ]
  },
  {
   "cell_type": "code",
   "execution_count": null,
   "metadata": {},
   "outputs": [],
   "source": [
    "class Solution:\n",
    "    def maxNumberOfBalloons(self, text: str) -> int:\n",
    "        # Similar logic, but shorter code -- but slower\n",
    "        #ins = [1, 1, 2, 2, 1] # b,a,l,o,n\n",
    "        #instxt = [text.count('b'),text.count('a'),text.count('l'),text.count('o'),text.count('n')]\n",
    "        #count = 10000\n",
    "        #for i in range(len(ins)):\n",
    "        #    if instxt[i] < ins[i]:\n",
    "        #        count = 0\n",
    "        #        break\n",
    "        #    else:\n",
    "        #        count = min(count, instxt[i]//ins[i])\n",
    "        #return count\n",
    "        \n",
    "        ins = collections.Counter('balloon')\n",
    "        instxt = collections.Counter(text)\n",
    "        return min([instxt[c] // ins[c] for c in ins])"
   ]
  },
  {
   "cell_type": "markdown",
   "metadata": {},
   "source": [
    "# 1446. Consecutive Characters"
   ]
  },
  {
   "cell_type": "code",
   "execution_count": null,
   "metadata": {},
   "outputs": [],
   "source": [
    "class Solution:\n",
    "    def maxPower(self, s: str) -> int:\n",
    "        count, res = 1, 1\n",
    "        for i in range(1,len(s)):\n",
    "            if s[i] == s[i-1]:\n",
    "                count += 1\n",
    "            else:\n",
    "                count = 1\n",
    "            res = max(res,count)\n",
    "        return res"
   ]
  },
  {
   "cell_type": "markdown",
   "metadata": {},
   "source": [
    "# 696. Count Binary Substrings"
   ]
  },
  {
   "cell_type": "code",
   "execution_count": null,
   "metadata": {},
   "outputs": [],
   "source": [
    "class Solution:\n",
    "    def countBinarySubstrings(self, s: str) -> int:\n",
    "        l = [len(i) for i in s.replace('01', '0 1').replace('10','1 0').split()]\n",
    "        return sum(min(a,b) for a,b in zip(l,l[1:]))"
   ]
  },
  {
   "cell_type": "markdown",
   "metadata": {},
   "source": [
    "# 1507. Reformat Date"
   ]
  },
  {
   "cell_type": "code",
   "execution_count": null,
   "metadata": {},
   "outputs": [],
   "source": [
    "class Solution:\n",
    "    def reformatDate(self, date: str) -> str:\n",
    "        monthlst = [\"Jan\", \"Feb\", \"Mar\", \"Apr\", \"May\", \"Jun\", \"Jul\", \"Aug\", \"Sep\", \"Oct\", \"Nov\", \"Dec\"]\n",
    "        day, month, year = date.split()\n",
    "        idx = monthlst.index(month) + 1\n",
    "        if idx < 10:\n",
    "            mnth = '0'+ str(idx)\n",
    "        else:\n",
    "            mnth = str(idx)\n",
    "        tmp = int(day[:-2])\n",
    "        if tmp < 10:\n",
    "            dt = '0'+str(tmp)\n",
    "        else:\n",
    "            dt = str(tmp)     \n",
    "            \n",
    "        return year+'-'+mnth+'-'+dt"
   ]
  },
  {
   "cell_type": "markdown",
   "metadata": {},
   "source": [
    "# 917. Reverse Only Letters"
   ]
  },
  {
   "cell_type": "code",
   "execution_count": null,
   "metadata": {},
   "outputs": [],
   "source": [
    "class Solution:\n",
    "    def reverseOnlyLetters(self, s: str) -> str:\n",
    "        s, i, j = list(s), 0, len(s)-1\n",
    "        while i < j:\n",
    "            if not s[i].isalpha():\n",
    "                i += 1\n",
    "            elif not s[j].isalpha():\n",
    "                j -= 1\n",
    "            else:\n",
    "                s[i], s[j] = s[j], s[i]\n",
    "                i, j = i+1, j-1\n",
    "        return ''.join(s)"
   ]
  },
  {
   "cell_type": "markdown",
   "metadata": {},
   "source": [
    "# 1624. Largest Substring Between Two Equal Characters"
   ]
  },
  {
   "cell_type": "code",
   "execution_count": null,
   "metadata": {},
   "outputs": [],
   "source": [
    "class Solution:\n",
    "    def maxLengthBetweenEqualCharacters(self, s: str) -> int:\n",
    "        return max(s.rfind(c)-s.find(c)-1 for c in set(s))"
   ]
  },
  {
   "cell_type": "markdown",
   "metadata": {},
   "source": [
    "# 1422. Maximum Score After Splitting a String"
   ]
  },
  {
   "cell_type": "code",
   "execution_count": null,
   "metadata": {},
   "outputs": [],
   "source": [
    "class Solution:\n",
    "    def maxScore(self, s: str) -> int:\n",
    "        score = 0\n",
    "        for i in range(1,len(s)):\n",
    "            score = max(score, s[:i].count('0')+s[i:].count('1'))\n",
    "        return score"
   ]
  }
 ],
 "metadata": {
  "kernelspec": {
   "display_name": "Python 3",
   "language": "python",
   "name": "python3"
  },
  "language_info": {
   "codemirror_mode": {
    "name": "ipython",
    "version": 3
   },
   "file_extension": ".py",
   "mimetype": "text/x-python",
   "name": "python",
   "nbconvert_exporter": "python",
   "pygments_lexer": "ipython3",
   "version": "3.8.3"
  }
 },
 "nbformat": 4,
 "nbformat_minor": 4
}
