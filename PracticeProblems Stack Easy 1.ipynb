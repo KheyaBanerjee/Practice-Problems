{
 "cells": [
  {
   "cell_type": "markdown",
   "metadata": {},
   "source": [
    "# 1047. Remove All Adjacent Duplicates In String"
   ]
  },
  {
   "cell_type": "code",
   "execution_count": null,
   "metadata": {},
   "outputs": [],
   "source": [
    "class Solution:\n",
    "    def removeDuplicates(self, s: str) -> str:\n",
    "        res = []\n",
    "        for c in s:\n",
    "            if res and res[-1] == c:\n",
    "                res.pop()\n",
    "            else:\n",
    "                res.append(c)\n",
    "        return ''.join(res)"
   ]
  },
  {
   "cell_type": "markdown",
   "metadata": {},
   "source": [
    "# 1614. Maximum Nesting Depth of the Parentheses"
   ]
  },
  {
   "cell_type": "code",
   "execution_count": null,
   "metadata": {},
   "outputs": [],
   "source": [
    "        res = 0\n",
    "        stk = []\n",
    "        for c in s:\n",
    "            if c == '(':\n",
    "                stk.append(c)\n",
    "                res = max(res, len(stk))\n",
    "            elif c == ')':\n",
    "                stk.pop()\n",
    "        return res"
   ]
  },
  {
   "cell_type": "markdown",
   "metadata": {},
   "source": [
    "# 496. Next Greater Element I"
   ]
  },
  {
   "cell_type": "code",
   "execution_count": null,
   "metadata": {},
   "outputs": [],
   "source": [
    "class Solution:\n",
    "    def nextGreaterElement(self, nums1: List[int], nums2: List[int]) -> List[int]:\n",
    "        # Slow solution, do not use stack\n",
    "        #res = [-1]*len(nums1)\n",
    "        #for i, n in enumerate(nums1):\n",
    "        #    for j in range(len(nums2)-1):\n",
    "        #        if nums2[j] == n:\n",
    "        #            for k in range(j,len(nums2)):\n",
    "        #                if nums2[k] > n:\n",
    "        #                    res[i] = nums2[k]\n",
    "        #                    break\n",
    "        #return res\n",
    "        \n",
    "        stk = []\n",
    "        dic = {}\n",
    "        res = []\n",
    "        \n",
    "        for x in nums2:\n",
    "            while stk and x > stk[-1]:\n",
    "                dic[stk.pop()] = x\n",
    "            stk.append(x)\n",
    "            \n",
    "        for y in stk:\n",
    "            dic[y] = -1\n",
    "            \n",
    "        for n in nums1:\n",
    "            res.append(dic[n])\n",
    "            \n",
    "        return res"
   ]
  },
  {
   "cell_type": "markdown",
   "metadata": {},
   "source": [
    "# 844. Backspace String Compare"
   ]
  },
  {
   "cell_type": "code",
   "execution_count": null,
   "metadata": {},
   "outputs": [],
   "source": [
    "class Solution:\n",
    "    def backspaceCompare(self, s: str, t: str) -> bool:\n",
    "        stks = []\n",
    "        stkt = []\n",
    "        \n",
    "        for c in s:\n",
    "            if stks and c == \"#\":\n",
    "                stks.pop()\n",
    "            elif c ==\"#\":\n",
    "                pass\n",
    "            else:\n",
    "                stks.append(c)\n",
    "        \n",
    "        for c in t:\n",
    "            if stkt and c == \"#\":\n",
    "                stkt.pop()\n",
    "            elif c ==\"#\":\n",
    "                pass\n",
    "            else:\n",
    "                stkt.append(c)\n",
    "                \n",
    "        return ''.join(stkt) == ''.join(stks)"
   ]
  },
  {
   "cell_type": "code",
   "execution_count": null,
   "metadata": {},
   "outputs": [],
   "source": []
  },
  {
   "cell_type": "code",
   "execution_count": null,
   "metadata": {},
   "outputs": [],
   "source": []
  },
  {
   "cell_type": "code",
   "execution_count": null,
   "metadata": {},
   "outputs": [],
   "source": []
  },
  {
   "cell_type": "code",
   "execution_count": null,
   "metadata": {},
   "outputs": [],
   "source": []
  },
  {
   "cell_type": "code",
   "execution_count": null,
   "metadata": {},
   "outputs": [],
   "source": []
  },
  {
   "cell_type": "code",
   "execution_count": null,
   "metadata": {},
   "outputs": [],
   "source": []
  },
  {
   "cell_type": "code",
   "execution_count": null,
   "metadata": {},
   "outputs": [],
   "source": []
  },
  {
   "cell_type": "code",
   "execution_count": null,
   "metadata": {},
   "outputs": [],
   "source": []
  },
  {
   "cell_type": "code",
   "execution_count": null,
   "metadata": {},
   "outputs": [],
   "source": []
  },
  {
   "cell_type": "code",
   "execution_count": null,
   "metadata": {},
   "outputs": [],
   "source": []
  },
  {
   "cell_type": "code",
   "execution_count": null,
   "metadata": {},
   "outputs": [],
   "source": []
  },
  {
   "cell_type": "code",
   "execution_count": null,
   "metadata": {},
   "outputs": [],
   "source": []
  }
 ],
 "metadata": {
  "kernelspec": {
   "display_name": "Python 3",
   "language": "python",
   "name": "python3"
  },
  "language_info": {
   "codemirror_mode": {
    "name": "ipython",
    "version": 3
   },
   "file_extension": ".py",
   "mimetype": "text/x-python",
   "name": "python",
   "nbconvert_exporter": "python",
   "pygments_lexer": "ipython3",
   "version": "3.8.3"
  }
 },
 "nbformat": 4,
 "nbformat_minor": 4
}
