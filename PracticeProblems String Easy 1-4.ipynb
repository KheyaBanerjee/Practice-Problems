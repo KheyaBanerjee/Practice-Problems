{
 "cells": [
  {
   "cell_type": "markdown",
   "metadata": {},
   "source": [
    "# 1790. Check if One String Swap Can Make Strings Equal"
   ]
  },
  {
   "cell_type": "code",
   "execution_count": null,
   "metadata": {},
   "outputs": [],
   "source": [
    "class Solution:\n",
    "    def areAlmostEqual(self, s1: str, s2: str) -> bool:\n",
    "        diff = [[x,y] for x,y in zip(s1,s2) if x != y]\n",
    "        return not diff or len(diff) == 2 and diff[0][::-1] == diff[1]"
   ]
  },
  {
   "cell_type": "markdown",
   "metadata": {},
   "source": [
    "# 1556. Thousand Separator"
   ]
  },
  {
   "cell_type": "code",
   "execution_count": null,
   "metadata": {},
   "outputs": [],
   "source": [
    "class Solution:\n",
    "    def thousandSeparator(self, n: int) -> str:\n",
    "        n = str(n)\n",
    "        n = n[::-1]\n",
    "        s = '.'.join(n[i:i+3] for i in range(0,len(n),3))\n",
    "        return s[::-1]\n",
    "        "
   ]
  },
  {
   "cell_type": "markdown",
   "metadata": {},
   "source": [
    "# 1417. Reformat The String"
   ]
  },
  {
   "cell_type": "code",
   "execution_count": null,
   "metadata": {},
   "outputs": [],
   "source": [
    "class Solution:\n",
    "    def reformat(self, s: str) -> str:\n",
    "        a, b = [], []\n",
    "        for c in s:\n",
    "            if c.isdigit():\n",
    "                a.append(c)\n",
    "            else:\n",
    "                b.append(c)\n",
    "        if len(b) > len(a):\n",
    "            a, b = b, a\n",
    "        if len(a)-len(b) >= 2:\n",
    "            return ''\n",
    "        res = ''\n",
    "        for i in range(len(a)+len(b)):\n",
    "            if i % 2 == 0:\n",
    "                res += a[i//2]\n",
    "            else:\n",
    "                res += b[i//2]\n",
    "        return res"
   ]
  },
  {
   "cell_type": "markdown",
   "metadata": {},
   "source": [
    "# 13. Roman to Integer"
   ]
  },
  {
   "cell_type": "code",
   "execution_count": null,
   "metadata": {},
   "outputs": [],
   "source": [
    "class Solution:\n",
    "    def romanToInt(self, s: str) -> int:\n",
    "        mp = {\n",
    "            \"I\":1, \n",
    "            \"V\":5, \n",
    "            \"X\":10, \n",
    "            \"L\":50, \n",
    "            \"C\":100, \n",
    "            \"D\":500, \n",
    "            \"M\":1000\n",
    "        }\n",
    "\n",
    "        res = 0\n",
    "        s = s.replace('IV','IIII').replace('IX','VIIII')\n",
    "        s = s.replace('XL','XXXX').replace('XC','LXXXX')\n",
    "        s = s.replace('CD','CCCC').replace('CM','DCCCC')\n",
    "        for c in s:\n",
    "            res += mp[c]\n",
    "  \n",
    "        return res\n",
    "            "
   ]
  },
  {
   "cell_type": "code",
   "execution_count": null,
   "metadata": {},
   "outputs": [],
   "source": []
  },
  {
   "cell_type": "code",
   "execution_count": null,
   "metadata": {},
   "outputs": [],
   "source": []
  }
 ],
 "metadata": {
  "kernelspec": {
   "display_name": "Python 3",
   "language": "python",
   "name": "python3"
  },
  "language_info": {
   "codemirror_mode": {
    "name": "ipython",
    "version": 3
   },
   "file_extension": ".py",
   "mimetype": "text/x-python",
   "name": "python",
   "nbconvert_exporter": "python",
   "pygments_lexer": "ipython3",
   "version": "3.8.3"
  }
 },
 "nbformat": 4,
 "nbformat_minor": 4
}
